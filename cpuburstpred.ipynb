{
  "nbformat": 4,
  "nbformat_minor": 0,
  "metadata": {
    "colab": {
      "name": "CPU_BURST [FINAL].ipynb",
      "provenance": [],
      "collapsed_sections": []
    },
    "kernelspec": {
      "display_name": "Python 3",
      "name": "python3"
    },
    "language_info": {
      "name": "python"
    }
  },
  "cells": [
    {
      "cell_type": "markdown",
      "metadata": {
        "id": "qmnE1O_o-GFn"
      },
      "source": [
        "# **Machine Learning Based Technique to predict  CPU-Burst Time**"
      ]
    },
    {
      "cell_type": "code",
      "metadata": {
        "id": "BKY6DYI192nv"
      },
      "source": [
        "import sqlite3\n",
        "import numpy as np\n",
        "import pandas as pd \n",
        "from sklearn import preprocessing\n",
        "from sklearn.feature_selection import chi2\n",
        "from sklearn.model_selection import GridSearchCV\n",
        "from sklearn.feature_selection import SelectKBest\n",
        "from sklearn import tree\n",
        "from sklearn.tree import DecisionTreeRegressor\n",
        "from sklearn.tree import DecisionTreeClassifier\n",
        "from sklearn.metrics import classification_report,confusion_matrix,precision_score\n",
        "from sklearn.metrics import accuracy_score,mean_absolute_error,mean_squared_error\n",
        "from sklearn.neighbors import KNeighborsClassifier\n",
        "from sklearn.model_selection import train_test_split\n",
        "import os"
      ],
      "execution_count": 1,
      "outputs": []
    },
    {
      "cell_type": "markdown",
      "metadata": {
        "id": "XipJXlB8-WM-"
      },
      "source": [
        "## **1. Importing Dataset**"
      ]
    },
    {
      "cell_type": "code",
      "metadata": {
        "colab": {
          "base_uri": "https://localhost:8080/"
        },
        "id": "9JN3ZTLm-Un7",
        "outputId": "8f3f130e-86ff-4288-8657-0f8d8481cb89"
      },
      "source": [
        "from google.colab import drive\n",
        "drive.mount('/content/drive')"
      ],
      "execution_count": 3,
      "outputs": [
        {
          "output_type": "stream",
          "name": "stdout",
          "text": [
            "Drive already mounted at /content/drive; to attempt to forcibly remount, call drive.mount(\"/content/drive\", force_remount=True).\n"
          ]
        }
      ]
    },
    {
      "cell_type": "code",
      "metadata": {
        "colab": {
          "base_uri": "https://localhost:8080/"
        },
        "id": "Cg_V6kTfi0i_",
        "outputId": "ba5d8061-ed9c-4a47-fd1b-284ac75f321e"
      },
      "source": [
        "%cd /content/drive/MyDrive/Github/"
      ],
      "execution_count": 4,
      "outputs": [
        {
          "output_type": "stream",
          "name": "stdout",
          "text": [
            "/content/drive/MyDrive/Github\n"
          ]
        }
      ]
    },
    {
      "cell_type": "code",
      "metadata": {
        "colab": {
          "base_uri": "https://localhost:8080/"
        },
        "id": "ypQ2I3ROj7_W",
        "outputId": "f0ec48b7-e20a-4dee-f48c-ce4fd1d0503b"
      },
      "source": [
        "!git init CPU\\ Burst-Time\\ Prediction"
      ],
      "execution_count": 5,
      "outputs": [
        {
          "output_type": "stream",
          "name": "stdout",
          "text": [
            "Reinitialized existing Git repository in /content/drive/MyDrive/Github/CPU Burst-Time Prediction/.git/\n"
          ]
        }
      ]
    },
    {
      "cell_type": "code",
      "metadata": {
        "colab": {
          "base_uri": "https://localhost:8080/"
        },
        "id": "FzYNwksAj8Bc",
        "outputId": "0b2e83ec-9856-49aa-82df-681b43846449"
      },
      "source": [
        "%cd CPU\\ Burst-Time\\ Prediction"
      ],
      "execution_count": 6,
      "outputs": [
        {
          "output_type": "stream",
          "name": "stdout",
          "text": [
            "/content/drive/MyDrive/Github/CPU Burst-Time Prediction\n"
          ]
        }
      ]
    },
    {
      "cell_type": "code",
      "metadata": {
        "colab": {
          "base_uri": "https://localhost:8080/"
        },
        "id": "jI0PaiXuj8D8",
        "outputId": "912eef94-c7cd-4f99-c50b-93477b3f7493"
      },
      "source": [
        "%ls -a"
      ],
      "execution_count": 7,
      "outputs": [
        {
          "output_type": "stream",
          "name": "stdout",
          "text": [
            "'CPU_BURST [FINAL].ipynb'   \u001b[0m\u001b[01;34m.git\u001b[0m/\n"
          ]
        }
      ]
    },
    {
      "cell_type": "code",
      "metadata": {
        "colab": {
          "base_uri": "https://localhost:8080/"
        },
        "id": "Hw2CJOLGkB5T",
        "outputId": "212a54db-6a4c-4d03-f56b-7ed9fc28bdb4"
      },
      "source": [
        "!git status "
      ],
      "execution_count": 8,
      "outputs": [
        {
          "output_type": "stream",
          "name": "stdout",
          "text": [
            "On branch master\n",
            "Changes not staged for commit:\n",
            "  (use \"git add <file>...\" to update what will be committed)\n",
            "  (use \"git checkout -- <file>...\" to discard changes in working directory)\n",
            "\n",
            "\t\u001b[31mmodified:   CPU_BURST [FINAL].ipynb\u001b[m\n",
            "\n",
            "no changes added to commit (use \"git add\" and/or \"git commit -a\")\n"
          ]
        }
      ]
    },
    {
      "cell_type": "code",
      "metadata": {
        "colab": {
          "base_uri": "https://localhost:8080/"
        },
        "id": "IOQQTrXzkB8G",
        "outputId": "943c9592-99ff-4606-8ef5-8d699eef642d"
      },
      "source": [
        "!git commit -m \"first commit\""
      ],
      "execution_count": 9,
      "outputs": [
        {
          "output_type": "stream",
          "name": "stdout",
          "text": [
            "\n",
            "*** Please tell me who you are.\n",
            "\n",
            "Run\n",
            "\n",
            "  git config --global user.email \"you@example.com\"\n",
            "  git config --global user.name \"Your Name\"\n",
            "\n",
            "to set your account's default identity.\n",
            "Omit --global to set the identity only in this repository.\n",
            "\n",
            "fatal: unable to auto-detect email address (got 'root@1dae22f7493c.(none)')\n"
          ]
        }
      ]
    },
    {
      "cell_type": "code",
      "metadata": {
        "id": "kC5315YNkMt3"
      },
      "source": [
        "username = 'PrathameshSamal123'\n",
        "git_token = ''"
      ],
      "execution_count": null,
      "outputs": []
    },
    {
      "cell_type": "code",
      "metadata": {
        "id": "MfVADFt0kMvu"
      },
      "source": [
        ""
      ],
      "execution_count": null,
      "outputs": []
    },
    {
      "cell_type": "code",
      "metadata": {
        "id": "iTyVoxi2-eQu"
      },
      "source": [
        "path = \"/content/drive/MyDrive/DAS2.db3\" \n",
        "cnx = sqlite3.connect(path)\n",
        "\n",
        "df = pd.read_sql_query(\"SELECT * from Jobs \", cnx)"
      ],
      "execution_count": null,
      "outputs": []
    },
    {
      "cell_type": "code",
      "metadata": {
        "colab": {
          "base_uri": "https://localhost:8080/",
          "height": 224
        },
        "id": "-hVSe_yYCXwW",
        "outputId": "5b86cd9d-9a06-4264-9683-6bd90aa7d52c"
      },
      "source": [
        "df.head()"
      ],
      "execution_count": null,
      "outputs": [
        {
          "output_type": "execute_result",
          "data": {
            "text/html": [
              "<div>\n",
              "<style scoped>\n",
              "    .dataframe tbody tr th:only-of-type {\n",
              "        vertical-align: middle;\n",
              "    }\n",
              "\n",
              "    .dataframe tbody tr th {\n",
              "        vertical-align: top;\n",
              "    }\n",
              "\n",
              "    .dataframe thead th {\n",
              "        text-align: right;\n",
              "    }\n",
              "</style>\n",
              "<table border=\"1\" class=\"dataframe\">\n",
              "  <thead>\n",
              "    <tr style=\"text-align: right;\">\n",
              "      <th></th>\n",
              "      <th>JobID</th>\n",
              "      <th>SubmitTime</th>\n",
              "      <th>WaitTime</th>\n",
              "      <th>RunTime</th>\n",
              "      <th>NProc</th>\n",
              "      <th>UsedCPUTime</th>\n",
              "      <th>UsedMemory</th>\n",
              "      <th>ReqNProcs</th>\n",
              "      <th>ReqTime</th>\n",
              "      <th>ReqMemory</th>\n",
              "      <th>Status</th>\n",
              "      <th>UserID</th>\n",
              "      <th>GroupID</th>\n",
              "      <th>ExecutableID</th>\n",
              "      <th>QueueID</th>\n",
              "      <th>PartitionID</th>\n",
              "      <th>OrigSiteID</th>\n",
              "      <th>LastRunSiteID</th>\n",
              "      <th>JobStructure</th>\n",
              "      <th>JobStructureParams</th>\n",
              "      <th>UsedNetwork</th>\n",
              "      <th>UsedLocalDiskSpace</th>\n",
              "      <th>UsedResources</th>\n",
              "      <th>ReqPlatform</th>\n",
              "      <th>ReqNetwork</th>\n",
              "      <th>ReqLocalDiskSpace</th>\n",
              "      <th>ReqResources</th>\n",
              "      <th>VOID</th>\n",
              "      <th>ProjectID</th>\n",
              "    </tr>\n",
              "  </thead>\n",
              "  <tbody>\n",
              "    <tr>\n",
              "      <th>0</th>\n",
              "      <td>1</td>\n",
              "      <td>1109087545</td>\n",
              "      <td>9</td>\n",
              "      <td>21</td>\n",
              "      <td>1</td>\n",
              "      <td>0.05</td>\n",
              "      <td>8282.112</td>\n",
              "      <td>1</td>\n",
              "      <td>-1.0</td>\n",
              "      <td>-1.0</td>\n",
              "      <td>1</td>\n",
              "      <td>U0</td>\n",
              "      <td>G0</td>\n",
              "      <td>X0</td>\n",
              "      <td>Q0</td>\n",
              "      <td>-1</td>\n",
              "      <td>DAS2/fs0</td>\n",
              "      <td>DAS2/fs0</td>\n",
              "      <td>UNITARY</td>\n",
              "      <td>-1</td>\n",
              "      <td>-1.0</td>\n",
              "      <td>-1.0</td>\n",
              "      <td>-1</td>\n",
              "      <td>-1</td>\n",
              "      <td>-1.0</td>\n",
              "      <td>-1.0</td>\n",
              "      <td>-1</td>\n",
              "      <td>-1</td>\n",
              "      <td>-1</td>\n",
              "    </tr>\n",
              "    <tr>\n",
              "      <th>1</th>\n",
              "      <td>2</td>\n",
              "      <td>1109087546</td>\n",
              "      <td>8</td>\n",
              "      <td>21</td>\n",
              "      <td>1</td>\n",
              "      <td>0.08</td>\n",
              "      <td>10485.760</td>\n",
              "      <td>1</td>\n",
              "      <td>-1.0</td>\n",
              "      <td>-1.0</td>\n",
              "      <td>1</td>\n",
              "      <td>U0</td>\n",
              "      <td>G0</td>\n",
              "      <td>X0</td>\n",
              "      <td>Q0</td>\n",
              "      <td>-1</td>\n",
              "      <td>DAS2/fs0</td>\n",
              "      <td>DAS2/fs0</td>\n",
              "      <td>UNITARY</td>\n",
              "      <td>-1</td>\n",
              "      <td>-1.0</td>\n",
              "      <td>-1.0</td>\n",
              "      <td>-1</td>\n",
              "      <td>-1</td>\n",
              "      <td>-1.0</td>\n",
              "      <td>-1.0</td>\n",
              "      <td>-1</td>\n",
              "      <td>-1</td>\n",
              "      <td>-1</td>\n",
              "    </tr>\n",
              "    <tr>\n",
              "      <th>2</th>\n",
              "      <td>3</td>\n",
              "      <td>1109087609</td>\n",
              "      <td>5</td>\n",
              "      <td>1</td>\n",
              "      <td>1</td>\n",
              "      <td>0.00</td>\n",
              "      <td>2584.576</td>\n",
              "      <td>1</td>\n",
              "      <td>-1.0</td>\n",
              "      <td>-1.0</td>\n",
              "      <td>1</td>\n",
              "      <td>U0</td>\n",
              "      <td>G0</td>\n",
              "      <td>X1</td>\n",
              "      <td>Q0</td>\n",
              "      <td>-1</td>\n",
              "      <td>DAS2/fs0</td>\n",
              "      <td>DAS2/fs0</td>\n",
              "      <td>UNITARY</td>\n",
              "      <td>-1</td>\n",
              "      <td>-1.0</td>\n",
              "      <td>-1.0</td>\n",
              "      <td>-1</td>\n",
              "      <td>-1</td>\n",
              "      <td>-1.0</td>\n",
              "      <td>-1.0</td>\n",
              "      <td>-1</td>\n",
              "      <td>-1</td>\n",
              "      <td>-1</td>\n",
              "    </tr>\n",
              "    <tr>\n",
              "      <th>3</th>\n",
              "      <td>4</td>\n",
              "      <td>1109091229</td>\n",
              "      <td>15</td>\n",
              "      <td>0</td>\n",
              "      <td>1</td>\n",
              "      <td>0.00</td>\n",
              "      <td>0.000</td>\n",
              "      <td>1</td>\n",
              "      <td>-1.0</td>\n",
              "      <td>-1.0</td>\n",
              "      <td>1</td>\n",
              "      <td>U0</td>\n",
              "      <td>G0</td>\n",
              "      <td>X1</td>\n",
              "      <td>Q0</td>\n",
              "      <td>-1</td>\n",
              "      <td>DAS2/fs0</td>\n",
              "      <td>DAS2/fs0</td>\n",
              "      <td>UNITARY</td>\n",
              "      <td>-1</td>\n",
              "      <td>-1.0</td>\n",
              "      <td>-1.0</td>\n",
              "      <td>-1</td>\n",
              "      <td>-1</td>\n",
              "      <td>-1.0</td>\n",
              "      <td>-1.0</td>\n",
              "      <td>-1</td>\n",
              "      <td>-1</td>\n",
              "      <td>-1</td>\n",
              "    </tr>\n",
              "    <tr>\n",
              "      <th>4</th>\n",
              "      <td>5</td>\n",
              "      <td>1109091214</td>\n",
              "      <td>65162</td>\n",
              "      <td>1</td>\n",
              "      <td>1</td>\n",
              "      <td>0.00</td>\n",
              "      <td>0.000</td>\n",
              "      <td>1</td>\n",
              "      <td>-1.0</td>\n",
              "      <td>-1.0</td>\n",
              "      <td>1</td>\n",
              "      <td>U0</td>\n",
              "      <td>G0</td>\n",
              "      <td>X1</td>\n",
              "      <td>Q0</td>\n",
              "      <td>-1</td>\n",
              "      <td>DAS2/fs0</td>\n",
              "      <td>DAS2/fs0</td>\n",
              "      <td>UNITARY</td>\n",
              "      <td>-1</td>\n",
              "      <td>-1.0</td>\n",
              "      <td>-1.0</td>\n",
              "      <td>-1</td>\n",
              "      <td>-1</td>\n",
              "      <td>-1.0</td>\n",
              "      <td>-1.0</td>\n",
              "      <td>-1</td>\n",
              "      <td>-1</td>\n",
              "      <td>-1</td>\n",
              "    </tr>\n",
              "  </tbody>\n",
              "</table>\n",
              "</div>"
            ],
            "text/plain": [
              "   JobID  SubmitTime  WaitTime  ...  ReqResources  VOID  ProjectID\n",
              "0      1  1109087545         9  ...            -1    -1         -1\n",
              "1      2  1109087546         8  ...            -1    -1         -1\n",
              "2      3  1109087609         5  ...            -1    -1         -1\n",
              "3      4  1109091229        15  ...            -1    -1         -1\n",
              "4      5  1109091214     65162  ...            -1    -1         -1\n",
              "\n",
              "[5 rows x 29 columns]"
            ]
          },
          "metadata": {},
          "execution_count": 5
        }
      ]
    },
    {
      "cell_type": "code",
      "metadata": {
        "colab": {
          "base_uri": "https://localhost:8080/"
        },
        "id": "EDPNnDawCjSC",
        "outputId": "ca750173-504b-4786-a2d5-1c9e96699b2f"
      },
      "source": [
        "df.info()"
      ],
      "execution_count": null,
      "outputs": [
        {
          "output_type": "stream",
          "name": "stdout",
          "text": [
            "<class 'pandas.core.frame.DataFrame'>\n",
            "RangeIndex: 1124772 entries, 0 to 1124771\n",
            "Data columns (total 29 columns):\n",
            " #   Column              Non-Null Count    Dtype  \n",
            "---  ------              --------------    -----  \n",
            " 0   JobID               1124772 non-null  int64  \n",
            " 1   SubmitTime          1124772 non-null  int64  \n",
            " 2   WaitTime            1124772 non-null  int64  \n",
            " 3   RunTime             1124772 non-null  int64  \n",
            " 4   NProc               1124772 non-null  int64  \n",
            " 5   UsedCPUTime         1124772 non-null  float64\n",
            " 6   UsedMemory          1124772 non-null  float64\n",
            " 7   ReqNProcs           1124772 non-null  int64  \n",
            " 8   ReqTime             1124772 non-null  float64\n",
            " 9   ReqMemory           1124772 non-null  float64\n",
            " 10  Status              1124772 non-null  int64  \n",
            " 11  UserID              1124772 non-null  object \n",
            " 12  GroupID             1124772 non-null  object \n",
            " 13  ExecutableID        1124772 non-null  object \n",
            " 14  QueueID             1124772 non-null  object \n",
            " 15  PartitionID         1124772 non-null  object \n",
            " 16  OrigSiteID          1124772 non-null  object \n",
            " 17  LastRunSiteID       1124772 non-null  object \n",
            " 18  JobStructure        1124772 non-null  object \n",
            " 19  JobStructureParams  1124772 non-null  object \n",
            " 20  UsedNetwork         1124772 non-null  float64\n",
            " 21  UsedLocalDiskSpace  1124772 non-null  float64\n",
            " 22  UsedResources       1124772 non-null  object \n",
            " 23  ReqPlatform         1124772 non-null  object \n",
            " 24  ReqNetwork          1124772 non-null  float64\n",
            " 25  ReqLocalDiskSpace   1124772 non-null  float64\n",
            " 26  ReqResources        1124772 non-null  object \n",
            " 27  VOID                1124772 non-null  object \n",
            " 28  ProjectID           1124772 non-null  object \n",
            "dtypes: float64(8), int64(7), object(14)\n",
            "memory usage: 248.9+ MB\n"
          ]
        }
      ]
    },
    {
      "cell_type": "code",
      "metadata": {
        "colab": {
          "base_uri": "https://localhost:8080/"
        },
        "id": "ODXUwWPdCoyu",
        "outputId": "65f11333-d3e4-45a5-9283-3e2fe8aaf0d8"
      },
      "source": [
        "for col in df.columns[0:]:\n",
        "    print(col,':',len(df[col].unique()),'labels')\n"
      ],
      "execution_count": null,
      "outputs": [
        {
          "output_type": "stream",
          "name": "stdout",
          "text": [
            "JobID : 1124772 labels\n",
            "SubmitTime : 826435 labels\n",
            "WaitTime : 16274 labels\n",
            "RunTime : 9597 labels\n",
            "NProc : 81 labels\n",
            "UsedCPUTime : 23560 labels\n",
            "UsedMemory : 44582 labels\n",
            "ReqNProcs : 81 labels\n",
            "ReqTime : 255 labels\n",
            "ReqMemory : 1 labels\n",
            "Status : 2 labels\n",
            "UserID : 333 labels\n",
            "GroupID : 12 labels\n",
            "ExecutableID : 9070 labels\n",
            "QueueID : 3 labels\n",
            "PartitionID : 1 labels\n",
            "OrigSiteID : 5 labels\n",
            "LastRunSiteID : 5 labels\n",
            "JobStructure : 2 labels\n",
            "JobStructureParams : 1957 labels\n",
            "UsedNetwork : 1 labels\n",
            "UsedLocalDiskSpace : 1 labels\n",
            "UsedResources : 1 labels\n",
            "ReqPlatform : 1 labels\n",
            "ReqNetwork : 1 labels\n",
            "ReqLocalDiskSpace : 1 labels\n",
            "ReqResources : 1 labels\n",
            "VOID : 1 labels\n",
            "ProjectID : 1 labels\n"
          ]
        }
      ]
    },
    {
      "cell_type": "markdown",
      "metadata": {
        "id": "4NiV2-MkCvl2"
      },
      "source": [
        "# **Feature Selection & Engineering**"
      ]
    },
    {
      "cell_type": "markdown",
      "metadata": {
        "id": "Sow4V4QmC3bk"
      },
      "source": [
        "## **1. Feature Filtering By Analysis**"
      ]
    },
    {
      "cell_type": "code",
      "metadata": {
        "id": "OOEwzWsTC7qB"
      },
      "source": [
        "# df.drop(['ReqMemory','Status','QueueID','OrigSiteID','PartitionID','UsedNetwork','JobStructure','JobStructureParams',\n",
        "#          'UsedLocalDiskSpace','UsedResources','ReqPlatform','ReqNetwork','ReqLocalDiskSpace','ReqResources','VOID','ProjectID',\n",
        "#          'LastRunSiteID','SubmitTime'],axis=1,inplace=True)"
      ],
      "execution_count": null,
      "outputs": []
    },
    {
      "cell_type": "markdown",
      "metadata": {
        "id": "dTk4yGNGhH_j"
      },
      "source": [
        "# **Dropping Features with Constant Labels**"
      ]
    },
    {
      "cell_type": "code",
      "metadata": {
        "id": "0wGNld5AfFTa"
      },
      "source": [
        "columns_label1 = []\n",
        "for col in df.columns[0:]:\n",
        "  if len(df[col].unique())==1:\n",
        "    columns_label1.append(col)\n"
      ],
      "execution_count": null,
      "outputs": []
    },
    {
      "cell_type": "code",
      "metadata": {
        "colab": {
          "base_uri": "https://localhost:8080/"
        },
        "id": "KofH768pfdCt",
        "outputId": "5118c28f-0321-4c37-dc08-bddbd04c7a2a"
      },
      "source": [
        "# columns with len( label  ) = 1\n",
        "columns_label1"
      ],
      "execution_count": null,
      "outputs": [
        {
          "output_type": "execute_result",
          "data": {
            "text/plain": [
              "['ReqMemory',\n",
              " 'PartitionID',\n",
              " 'UsedNetwork',\n",
              " 'UsedLocalDiskSpace',\n",
              " 'UsedResources',\n",
              " 'ReqPlatform',\n",
              " 'ReqNetwork',\n",
              " 'ReqLocalDiskSpace',\n",
              " 'ReqResources',\n",
              " 'VOID',\n",
              " 'ProjectID']"
            ]
          },
          "metadata": {},
          "execution_count": 10
        }
      ]
    },
    {
      "cell_type": "code",
      "metadata": {
        "id": "t8sPMVcRfjit"
      },
      "source": [
        "df.drop(columns_label1,axis=1,inplace=True)"
      ],
      "execution_count": null,
      "outputs": []
    },
    {
      "cell_type": "code",
      "metadata": {
        "colab": {
          "base_uri": "https://localhost:8080/",
          "height": 204
        },
        "id": "4bqxbVMHC9a1",
        "outputId": "9f8c2e30-54e1-431a-8dfb-5b98bf72d5b8"
      },
      "source": [
        "df.head()"
      ],
      "execution_count": null,
      "outputs": [
        {
          "output_type": "execute_result",
          "data": {
            "text/html": [
              "<div>\n",
              "<style scoped>\n",
              "    .dataframe tbody tr th:only-of-type {\n",
              "        vertical-align: middle;\n",
              "    }\n",
              "\n",
              "    .dataframe tbody tr th {\n",
              "        vertical-align: top;\n",
              "    }\n",
              "\n",
              "    .dataframe thead th {\n",
              "        text-align: right;\n",
              "    }\n",
              "</style>\n",
              "<table border=\"1\" class=\"dataframe\">\n",
              "  <thead>\n",
              "    <tr style=\"text-align: right;\">\n",
              "      <th></th>\n",
              "      <th>JobID</th>\n",
              "      <th>SubmitTime</th>\n",
              "      <th>WaitTime</th>\n",
              "      <th>RunTime</th>\n",
              "      <th>NProc</th>\n",
              "      <th>UsedCPUTime</th>\n",
              "      <th>UsedMemory</th>\n",
              "      <th>ReqNProcs</th>\n",
              "      <th>ReqTime</th>\n",
              "      <th>Status</th>\n",
              "      <th>UserID</th>\n",
              "      <th>GroupID</th>\n",
              "      <th>ExecutableID</th>\n",
              "      <th>QueueID</th>\n",
              "      <th>OrigSiteID</th>\n",
              "      <th>LastRunSiteID</th>\n",
              "      <th>JobStructure</th>\n",
              "      <th>JobStructureParams</th>\n",
              "    </tr>\n",
              "  </thead>\n",
              "  <tbody>\n",
              "    <tr>\n",
              "      <th>0</th>\n",
              "      <td>1</td>\n",
              "      <td>1109087545</td>\n",
              "      <td>9</td>\n",
              "      <td>21</td>\n",
              "      <td>1</td>\n",
              "      <td>0.05</td>\n",
              "      <td>8282.112</td>\n",
              "      <td>1</td>\n",
              "      <td>-1.0</td>\n",
              "      <td>1</td>\n",
              "      <td>U0</td>\n",
              "      <td>G0</td>\n",
              "      <td>X0</td>\n",
              "      <td>Q0</td>\n",
              "      <td>DAS2/fs0</td>\n",
              "      <td>DAS2/fs0</td>\n",
              "      <td>UNITARY</td>\n",
              "      <td>-1</td>\n",
              "    </tr>\n",
              "    <tr>\n",
              "      <th>1</th>\n",
              "      <td>2</td>\n",
              "      <td>1109087546</td>\n",
              "      <td>8</td>\n",
              "      <td>21</td>\n",
              "      <td>1</td>\n",
              "      <td>0.08</td>\n",
              "      <td>10485.760</td>\n",
              "      <td>1</td>\n",
              "      <td>-1.0</td>\n",
              "      <td>1</td>\n",
              "      <td>U0</td>\n",
              "      <td>G0</td>\n",
              "      <td>X0</td>\n",
              "      <td>Q0</td>\n",
              "      <td>DAS2/fs0</td>\n",
              "      <td>DAS2/fs0</td>\n",
              "      <td>UNITARY</td>\n",
              "      <td>-1</td>\n",
              "    </tr>\n",
              "    <tr>\n",
              "      <th>2</th>\n",
              "      <td>3</td>\n",
              "      <td>1109087609</td>\n",
              "      <td>5</td>\n",
              "      <td>1</td>\n",
              "      <td>1</td>\n",
              "      <td>0.00</td>\n",
              "      <td>2584.576</td>\n",
              "      <td>1</td>\n",
              "      <td>-1.0</td>\n",
              "      <td>1</td>\n",
              "      <td>U0</td>\n",
              "      <td>G0</td>\n",
              "      <td>X1</td>\n",
              "      <td>Q0</td>\n",
              "      <td>DAS2/fs0</td>\n",
              "      <td>DAS2/fs0</td>\n",
              "      <td>UNITARY</td>\n",
              "      <td>-1</td>\n",
              "    </tr>\n",
              "    <tr>\n",
              "      <th>3</th>\n",
              "      <td>4</td>\n",
              "      <td>1109091229</td>\n",
              "      <td>15</td>\n",
              "      <td>0</td>\n",
              "      <td>1</td>\n",
              "      <td>0.00</td>\n",
              "      <td>0.000</td>\n",
              "      <td>1</td>\n",
              "      <td>-1.0</td>\n",
              "      <td>1</td>\n",
              "      <td>U0</td>\n",
              "      <td>G0</td>\n",
              "      <td>X1</td>\n",
              "      <td>Q0</td>\n",
              "      <td>DAS2/fs0</td>\n",
              "      <td>DAS2/fs0</td>\n",
              "      <td>UNITARY</td>\n",
              "      <td>-1</td>\n",
              "    </tr>\n",
              "    <tr>\n",
              "      <th>4</th>\n",
              "      <td>5</td>\n",
              "      <td>1109091214</td>\n",
              "      <td>65162</td>\n",
              "      <td>1</td>\n",
              "      <td>1</td>\n",
              "      <td>0.00</td>\n",
              "      <td>0.000</td>\n",
              "      <td>1</td>\n",
              "      <td>-1.0</td>\n",
              "      <td>1</td>\n",
              "      <td>U0</td>\n",
              "      <td>G0</td>\n",
              "      <td>X1</td>\n",
              "      <td>Q0</td>\n",
              "      <td>DAS2/fs0</td>\n",
              "      <td>DAS2/fs0</td>\n",
              "      <td>UNITARY</td>\n",
              "      <td>-1</td>\n",
              "    </tr>\n",
              "  </tbody>\n",
              "</table>\n",
              "</div>"
            ],
            "text/plain": [
              "   JobID  SubmitTime  WaitTime  ...  LastRunSiteID  JobStructure  JobStructureParams\n",
              "0      1  1109087545         9  ...       DAS2/fs0       UNITARY                  -1\n",
              "1      2  1109087546         8  ...       DAS2/fs0       UNITARY                  -1\n",
              "2      3  1109087609         5  ...       DAS2/fs0       UNITARY                  -1\n",
              "3      4  1109091229        15  ...       DAS2/fs0       UNITARY                  -1\n",
              "4      5  1109091214     65162  ...       DAS2/fs0       UNITARY                  -1\n",
              "\n",
              "[5 rows x 18 columns]"
            ]
          },
          "metadata": {},
          "execution_count": 12
        }
      ]
    },
    {
      "cell_type": "code",
      "metadata": {
        "id": "4mO3Ph8-1KqX"
      },
      "source": [
        ""
      ],
      "execution_count": null,
      "outputs": []
    },
    {
      "cell_type": "code",
      "metadata": {
        "id": "1ffI_-qG1YCM"
      },
      "source": [
        ""
      ],
      "execution_count": null,
      "outputs": []
    },
    {
      "cell_type": "code",
      "metadata": {
        "id": "3lgg8n1qI0wo"
      },
      "source": [
        "### ONLY FOR KNN\n",
        "\n",
        "# df.drop(['UserID','GroupID','ExecutableID','OrigSiteID','LastRunSiteID','JobStructure','QueueID'],inplace=True, axis=1)"
      ],
      "execution_count": null,
      "outputs": []
    },
    {
      "cell_type": "code",
      "metadata": {
        "id": "zyhazVJXJCDM"
      },
      "source": [
        "dfcopy = df.copy()"
      ],
      "execution_count": null,
      "outputs": []
    },
    {
      "cell_type": "code",
      "metadata": {
        "id": "21OeBYjpEiBY"
      },
      "source": [
        "sample_df = df.sample(n=30000,replace=True,random_state=5)"
      ],
      "execution_count": null,
      "outputs": []
    },
    {
      "cell_type": "code",
      "metadata": {
        "id": "EosmukG0EvJM"
      },
      "source": [
        "X = sample_df.drop(['RunTime','JobID'],axis=1)\n",
        "y = sample_df['RunTime']"
      ],
      "execution_count": null,
      "outputs": []
    },
    {
      "cell_type": "code",
      "metadata": {
        "colab": {
          "base_uri": "https://localhost:8080/",
          "height": 204
        },
        "id": "AKkCzHuMEvOA",
        "outputId": "7692a1e5-5aae-4f8a-eb3e-bd546a3166d4"
      },
      "source": [
        "X.head()"
      ],
      "execution_count": null,
      "outputs": [
        {
          "output_type": "execute_result",
          "data": {
            "text/html": [
              "<div>\n",
              "<style scoped>\n",
              "    .dataframe tbody tr th:only-of-type {\n",
              "        vertical-align: middle;\n",
              "    }\n",
              "\n",
              "    .dataframe tbody tr th {\n",
              "        vertical-align: top;\n",
              "    }\n",
              "\n",
              "    .dataframe thead th {\n",
              "        text-align: right;\n",
              "    }\n",
              "</style>\n",
              "<table border=\"1\" class=\"dataframe\">\n",
              "  <thead>\n",
              "    <tr style=\"text-align: right;\">\n",
              "      <th></th>\n",
              "      <th>SubmitTime</th>\n",
              "      <th>WaitTime</th>\n",
              "      <th>NProc</th>\n",
              "      <th>UsedCPUTime</th>\n",
              "      <th>UsedMemory</th>\n",
              "      <th>ReqNProcs</th>\n",
              "      <th>ReqTime</th>\n",
              "      <th>Status</th>\n",
              "      <th>UserID</th>\n",
              "      <th>GroupID</th>\n",
              "      <th>ExecutableID</th>\n",
              "      <th>QueueID</th>\n",
              "      <th>OrigSiteID</th>\n",
              "      <th>LastRunSiteID</th>\n",
              "      <th>JobStructure</th>\n",
              "      <th>JobStructureParams</th>\n",
              "    </tr>\n",
              "  </thead>\n",
              "  <tbody>\n",
              "    <tr>\n",
              "      <th>18638</th>\n",
              "      <td>1118226329</td>\n",
              "      <td>265</td>\n",
              "      <td>8</td>\n",
              "      <td>0.002500</td>\n",
              "      <td>1196.544</td>\n",
              "      <td>8</td>\n",
              "      <td>960.0</td>\n",
              "      <td>1</td>\n",
              "      <td>U38</td>\n",
              "      <td>G4</td>\n",
              "      <td>X17</td>\n",
              "      <td>Q0</td>\n",
              "      <td>DAS2/fs0</td>\n",
              "      <td>DAS2/fs0</td>\n",
              "      <td>UNITARY</td>\n",
              "      <td>-1</td>\n",
              "    </tr>\n",
              "    <tr>\n",
              "      <th>544751</th>\n",
              "      <td>1119848466</td>\n",
              "      <td>1001</td>\n",
              "      <td>1</td>\n",
              "      <td>56.000000</td>\n",
              "      <td>39788.544</td>\n",
              "      <td>1</td>\n",
              "      <td>900.0</td>\n",
              "      <td>1</td>\n",
              "      <td>U265</td>\n",
              "      <td>G3</td>\n",
              "      <td>X3432</td>\n",
              "      <td>Q0</td>\n",
              "      <td>DAS2/fs1</td>\n",
              "      <td>DAS2/fs1</td>\n",
              "      <td>UNITARY</td>\n",
              "      <td>-1</td>\n",
              "    </tr>\n",
              "    <tr>\n",
              "      <th>756710</th>\n",
              "      <td>1161894982</td>\n",
              "      <td>3</td>\n",
              "      <td>2</td>\n",
              "      <td>0.150000</td>\n",
              "      <td>15648.768</td>\n",
              "      <td>2</td>\n",
              "      <td>360.0</td>\n",
              "      <td>1</td>\n",
              "      <td>U66</td>\n",
              "      <td>G3</td>\n",
              "      <td>X14</td>\n",
              "      <td>Q0</td>\n",
              "      <td>DAS2/fs2</td>\n",
              "      <td>DAS2/fs2</td>\n",
              "      <td>UNITARY</td>\n",
              "      <td>-1</td>\n",
              "    </tr>\n",
              "    <tr>\n",
              "      <th>660880</th>\n",
              "      <td>1124929775</td>\n",
              "      <td>6</td>\n",
              "      <td>4</td>\n",
              "      <td>0.055000</td>\n",
              "      <td>9097.216</td>\n",
              "      <td>4</td>\n",
              "      <td>180.0</td>\n",
              "      <td>1</td>\n",
              "      <td>U66</td>\n",
              "      <td>G3</td>\n",
              "      <td>X14</td>\n",
              "      <td>Q0</td>\n",
              "      <td>DAS2/fs2</td>\n",
              "      <td>DAS2/fs2</td>\n",
              "      <td>UNITARY</td>\n",
              "      <td>-1</td>\n",
              "    </tr>\n",
              "    <tr>\n",
              "      <th>558088</th>\n",
              "      <td>1122909406</td>\n",
              "      <td>3</td>\n",
              "      <td>12</td>\n",
              "      <td>0.021667</td>\n",
              "      <td>2831.360</td>\n",
              "      <td>12</td>\n",
              "      <td>900.0</td>\n",
              "      <td>1</td>\n",
              "      <td>U69</td>\n",
              "      <td>G4</td>\n",
              "      <td>X14</td>\n",
              "      <td>Q0</td>\n",
              "      <td>DAS2/fs1</td>\n",
              "      <td>DAS2/fs1</td>\n",
              "      <td>UNITARY</td>\n",
              "      <td>-1</td>\n",
              "    </tr>\n",
              "  </tbody>\n",
              "</table>\n",
              "</div>"
            ],
            "text/plain": [
              "        SubmitTime  WaitTime  ...  JobStructure  JobStructureParams\n",
              "18638   1118226329       265  ...       UNITARY                  -1\n",
              "544751  1119848466      1001  ...       UNITARY                  -1\n",
              "756710  1161894982         3  ...       UNITARY                  -1\n",
              "660880  1124929775         6  ...       UNITARY                  -1\n",
              "558088  1122909406         3  ...       UNITARY                  -1\n",
              "\n",
              "[5 rows x 16 columns]"
            ]
          },
          "metadata": {},
          "execution_count": 17
        }
      ]
    },
    {
      "cell_type": "code",
      "metadata": {
        "id": "u9Z3niXFpmk_"
      },
      "source": [
        ""
      ],
      "execution_count": null,
      "outputs": []
    },
    {
      "cell_type": "code",
      "metadata": {
        "id": "d7ypOHVHl7Zb"
      },
      "source": [
        ""
      ],
      "execution_count": null,
      "outputs": []
    },
    {
      "cell_type": "code",
      "metadata": {
        "id": "m_EUGDT2tJTy"
      },
      "source": [
        "test_cols = X.columns \n",
        "dtypes = []\n",
        "\n",
        "for i in X.dtypes:\n",
        "  dtypes.append(i)"
      ],
      "execution_count": null,
      "outputs": []
    },
    {
      "cell_type": "code",
      "metadata": {
        "id": "tOtlDxm1vkjO"
      },
      "source": [
        "test_cols = pd.DataFrame(test_cols,columns=['Feature Name'])\n",
        "test_cols.index = np.arange(1, len(test_cols)+1)"
      ],
      "execution_count": null,
      "outputs": []
    },
    {
      "cell_type": "code",
      "metadata": {
        "id": "s2qb6IExww8g"
      },
      "source": [
        "X.dtypes\n",
        "dtypes = ['int64','int64','int64','float64','float64','int64','float64','int64','object','object','object','object','object','object','object','object']\n"
      ],
      "execution_count": null,
      "outputs": []
    },
    {
      "cell_type": "code",
      "metadata": {
        "id": "umf90a18v559"
      },
      "source": [
        "test_cols['DataType'] = dtypes"
      ],
      "execution_count": null,
      "outputs": []
    },
    {
      "cell_type": "code",
      "metadata": {
        "colab": {
          "base_uri": "https://localhost:8080/",
          "height": 543
        },
        "id": "5uE1GMJ1tJWb",
        "outputId": "2a91968e-92cd-4ad3-f2e5-e22b85294fa3"
      },
      "source": [
        "test_cols"
      ],
      "execution_count": null,
      "outputs": [
        {
          "output_type": "execute_result",
          "data": {
            "text/html": [
              "<div>\n",
              "<style scoped>\n",
              "    .dataframe tbody tr th:only-of-type {\n",
              "        vertical-align: middle;\n",
              "    }\n",
              "\n",
              "    .dataframe tbody tr th {\n",
              "        vertical-align: top;\n",
              "    }\n",
              "\n",
              "    .dataframe thead th {\n",
              "        text-align: right;\n",
              "    }\n",
              "</style>\n",
              "<table border=\"1\" class=\"dataframe\">\n",
              "  <thead>\n",
              "    <tr style=\"text-align: right;\">\n",
              "      <th></th>\n",
              "      <th>Feature Name</th>\n",
              "      <th>DataType</th>\n",
              "    </tr>\n",
              "  </thead>\n",
              "  <tbody>\n",
              "    <tr>\n",
              "      <th>1</th>\n",
              "      <td>SubmitTime</td>\n",
              "      <td>int64</td>\n",
              "    </tr>\n",
              "    <tr>\n",
              "      <th>2</th>\n",
              "      <td>WaitTime</td>\n",
              "      <td>int64</td>\n",
              "    </tr>\n",
              "    <tr>\n",
              "      <th>3</th>\n",
              "      <td>NProc</td>\n",
              "      <td>int64</td>\n",
              "    </tr>\n",
              "    <tr>\n",
              "      <th>4</th>\n",
              "      <td>UsedCPUTime</td>\n",
              "      <td>float64</td>\n",
              "    </tr>\n",
              "    <tr>\n",
              "      <th>5</th>\n",
              "      <td>UsedMemory</td>\n",
              "      <td>float64</td>\n",
              "    </tr>\n",
              "    <tr>\n",
              "      <th>6</th>\n",
              "      <td>ReqNProcs</td>\n",
              "      <td>int64</td>\n",
              "    </tr>\n",
              "    <tr>\n",
              "      <th>7</th>\n",
              "      <td>ReqTime</td>\n",
              "      <td>float64</td>\n",
              "    </tr>\n",
              "    <tr>\n",
              "      <th>8</th>\n",
              "      <td>Status</td>\n",
              "      <td>int64</td>\n",
              "    </tr>\n",
              "    <tr>\n",
              "      <th>9</th>\n",
              "      <td>UserID</td>\n",
              "      <td>object</td>\n",
              "    </tr>\n",
              "    <tr>\n",
              "      <th>10</th>\n",
              "      <td>GroupID</td>\n",
              "      <td>object</td>\n",
              "    </tr>\n",
              "    <tr>\n",
              "      <th>11</th>\n",
              "      <td>ExecutableID</td>\n",
              "      <td>object</td>\n",
              "    </tr>\n",
              "    <tr>\n",
              "      <th>12</th>\n",
              "      <td>QueueID</td>\n",
              "      <td>object</td>\n",
              "    </tr>\n",
              "    <tr>\n",
              "      <th>13</th>\n",
              "      <td>OrigSiteID</td>\n",
              "      <td>object</td>\n",
              "    </tr>\n",
              "    <tr>\n",
              "      <th>14</th>\n",
              "      <td>LastRunSiteID</td>\n",
              "      <td>object</td>\n",
              "    </tr>\n",
              "    <tr>\n",
              "      <th>15</th>\n",
              "      <td>JobStructure</td>\n",
              "      <td>object</td>\n",
              "    </tr>\n",
              "    <tr>\n",
              "      <th>16</th>\n",
              "      <td>JobStructureParams</td>\n",
              "      <td>object</td>\n",
              "    </tr>\n",
              "  </tbody>\n",
              "</table>\n",
              "</div>"
            ],
            "text/plain": [
              "          Feature Name DataType\n",
              "1           SubmitTime    int64\n",
              "2             WaitTime    int64\n",
              "3                NProc    int64\n",
              "4          UsedCPUTime  float64\n",
              "5           UsedMemory  float64\n",
              "6            ReqNProcs    int64\n",
              "7              ReqTime  float64\n",
              "8               Status    int64\n",
              "9               UserID   object\n",
              "10             GroupID   object\n",
              "11        ExecutableID   object\n",
              "12             QueueID   object\n",
              "13          OrigSiteID   object\n",
              "14       LastRunSiteID   object\n",
              "15        JobStructure   object\n",
              "16  JobStructureParams   object"
            ]
          },
          "metadata": {},
          "execution_count": 22
        }
      ]
    },
    {
      "cell_type": "markdown",
      "metadata": {
        "id": "2ZMdyIArDLxU"
      },
      "source": [
        "## **Handling Categorical Data - Leave One Out Encoder**"
      ]
    },
    {
      "cell_type": "code",
      "metadata": {
        "id": "5iJ1i3vTGcsv"
      },
      "source": [
        "# !pip install category_encoders"
      ],
      "execution_count": null,
      "outputs": []
    },
    {
      "cell_type": "code",
      "metadata": {
        "id": "aPjBpXERDOZ_",
        "colab": {
          "base_uri": "https://localhost:8080/"
        },
        "outputId": "17171d93-8aa6-43cd-aefd-6d189ed98097"
      },
      "source": [
        "from category_encoders import LeaveOneOutEncoder\n",
        "encoder = LeaveOneOutEncoder(return_df=True)\n",
        "\n",
        "X = encoder.fit_transform(X, y)"
      ],
      "execution_count": null,
      "outputs": [
        {
          "output_type": "stream",
          "name": "stderr",
          "text": [
            "/usr/local/lib/python3.7/dist-packages/statsmodels/tools/_testing.py:19: FutureWarning: pandas.util.testing is deprecated. Use the functions in the public API at pandas.testing instead.\n",
            "  import pandas.util.testing as tm\n"
          ]
        }
      ]
    },
    {
      "cell_type": "code",
      "metadata": {
        "colab": {
          "base_uri": "https://localhost:8080/",
          "height": 204
        },
        "id": "kOSWlMTKGbH-",
        "outputId": "36e08a12-754f-4df6-a1ca-59f07d4c711e"
      },
      "source": [
        "X.head()"
      ],
      "execution_count": null,
      "outputs": [
        {
          "output_type": "execute_result",
          "data": {
            "text/html": [
              "<div>\n",
              "<style scoped>\n",
              "    .dataframe tbody tr th:only-of-type {\n",
              "        vertical-align: middle;\n",
              "    }\n",
              "\n",
              "    .dataframe tbody tr th {\n",
              "        vertical-align: top;\n",
              "    }\n",
              "\n",
              "    .dataframe thead th {\n",
              "        text-align: right;\n",
              "    }\n",
              "</style>\n",
              "<table border=\"1\" class=\"dataframe\">\n",
              "  <thead>\n",
              "    <tr style=\"text-align: right;\">\n",
              "      <th></th>\n",
              "      <th>SubmitTime</th>\n",
              "      <th>WaitTime</th>\n",
              "      <th>NProc</th>\n",
              "      <th>UsedCPUTime</th>\n",
              "      <th>UsedMemory</th>\n",
              "      <th>ReqNProcs</th>\n",
              "      <th>ReqTime</th>\n",
              "      <th>Status</th>\n",
              "      <th>UserID</th>\n",
              "      <th>GroupID</th>\n",
              "      <th>ExecutableID</th>\n",
              "      <th>QueueID</th>\n",
              "      <th>OrigSiteID</th>\n",
              "      <th>LastRunSiteID</th>\n",
              "      <th>JobStructure</th>\n",
              "      <th>JobStructureParams</th>\n",
              "    </tr>\n",
              "  </thead>\n",
              "  <tbody>\n",
              "    <tr>\n",
              "      <th>18638</th>\n",
              "      <td>1118226329</td>\n",
              "      <td>265</td>\n",
              "      <td>8</td>\n",
              "      <td>0.002500</td>\n",
              "      <td>1196.544</td>\n",
              "      <td>8</td>\n",
              "      <td>960.0</td>\n",
              "      <td>1</td>\n",
              "      <td>208.216495</td>\n",
              "      <td>163.703850</td>\n",
              "      <td>627.377543</td>\n",
              "      <td>372.924839</td>\n",
              "      <td>338.504008</td>\n",
              "      <td>338.504008</td>\n",
              "      <td>390.053283</td>\n",
              "      <td>390.053283</td>\n",
              "    </tr>\n",
              "    <tr>\n",
              "      <th>544751</th>\n",
              "      <td>1119848466</td>\n",
              "      <td>1001</td>\n",
              "      <td>1</td>\n",
              "      <td>56.000000</td>\n",
              "      <td>39788.544</td>\n",
              "      <td>1</td>\n",
              "      <td>900.0</td>\n",
              "      <td>1</td>\n",
              "      <td>123.893805</td>\n",
              "      <td>360.649792</td>\n",
              "      <td>372.864900</td>\n",
              "      <td>372.933642</td>\n",
              "      <td>261.542105</td>\n",
              "      <td>261.542105</td>\n",
              "      <td>390.063011</td>\n",
              "      <td>390.063011</td>\n",
              "    </tr>\n",
              "    <tr>\n",
              "      <th>756710</th>\n",
              "      <td>1161894982</td>\n",
              "      <td>3</td>\n",
              "      <td>2</td>\n",
              "      <td>0.150000</td>\n",
              "      <td>15648.768</td>\n",
              "      <td>2</td>\n",
              "      <td>360.0</td>\n",
              "      <td>1</td>\n",
              "      <td>264.907277</td>\n",
              "      <td>360.652386</td>\n",
              "      <td>268.607173</td>\n",
              "      <td>372.934743</td>\n",
              "      <td>208.783524</td>\n",
              "      <td>208.783524</td>\n",
              "      <td>390.064227</td>\n",
              "      <td>390.064227</td>\n",
              "    </tr>\n",
              "    <tr>\n",
              "      <th>660880</th>\n",
              "      <td>1124929775</td>\n",
              "      <td>6</td>\n",
              "      <td>4</td>\n",
              "      <td>0.055000</td>\n",
              "      <td>9097.216</td>\n",
              "      <td>4</td>\n",
              "      <td>180.0</td>\n",
              "      <td>1</td>\n",
              "      <td>264.896564</td>\n",
              "      <td>360.647826</td>\n",
              "      <td>268.603134</td>\n",
              "      <td>372.932809</td>\n",
              "      <td>208.768451</td>\n",
              "      <td>208.768451</td>\n",
              "      <td>390.062090</td>\n",
              "      <td>390.062090</td>\n",
              "    </tr>\n",
              "    <tr>\n",
              "      <th>558088</th>\n",
              "      <td>1122909406</td>\n",
              "      <td>3</td>\n",
              "      <td>12</td>\n",
              "      <td>0.021667</td>\n",
              "      <td>2831.360</td>\n",
              "      <td>12</td>\n",
              "      <td>900.0</td>\n",
              "      <td>1</td>\n",
              "      <td>46.452314</td>\n",
              "      <td>163.796150</td>\n",
              "      <td>268.610864</td>\n",
              "      <td>372.936510</td>\n",
              "      <td>261.572281</td>\n",
              "      <td>261.572281</td>\n",
              "      <td>390.066180</td>\n",
              "      <td>390.066180</td>\n",
              "    </tr>\n",
              "  </tbody>\n",
              "</table>\n",
              "</div>"
            ],
            "text/plain": [
              "        SubmitTime  WaitTime  ...  JobStructure  JobStructureParams\n",
              "18638   1118226329       265  ...    390.053283          390.053283\n",
              "544751  1119848466      1001  ...    390.063011          390.063011\n",
              "756710  1161894982         3  ...    390.064227          390.064227\n",
              "660880  1124929775         6  ...    390.062090          390.062090\n",
              "558088  1122909406         3  ...    390.066180          390.066180\n",
              "\n",
              "[5 rows x 16 columns]"
            ]
          },
          "metadata": {},
          "execution_count": 27
        }
      ]
    },
    {
      "cell_type": "markdown",
      "metadata": {
        "id": "DMcUyD0xGtjr"
      },
      "source": [
        "# **M1: Feature Selection - chi2 Method**"
      ]
    },
    {
      "cell_type": "code",
      "metadata": {
        "id": "8zO9_zVxGx_r"
      },
      "source": [
        "X_chi = X.copy()\n",
        "y_chi = y.copy()\n",
        "features = X.columns"
      ],
      "execution_count": null,
      "outputs": []
    },
    {
      "cell_type": "code",
      "metadata": {
        "id": "nE_DGuW8HBqw"
      },
      "source": [
        "min_max_scaler = preprocessing.MinMaxScaler()\n",
        "X_minmax_chi = min_max_scaler.fit_transform(X_chi)"
      ],
      "execution_count": null,
      "outputs": []
    },
    {
      "cell_type": "code",
      "metadata": {
        "id": "_65dhTh_HGl6"
      },
      "source": [
        "from sklearn.feature_selection import chi2,f_regression,mutual_info_regression\n",
        "from sklearn.feature_selection import SelectKBest\n",
        "from sklearn.ensemble import RandomForestClassifier,RandomForestRegressor"
      ],
      "execution_count": null,
      "outputs": []
    },
    {
      "cell_type": "code",
      "metadata": {
        "colab": {
          "base_uri": "https://localhost:8080/"
        },
        "id": "2KK45-FNHi2A",
        "outputId": "8f604211-7f8b-43ec-8313-87679aff6146"
      },
      "source": [
        "best_features = SelectKBest(score_func=chi2,k=8)\n",
        "fit = best_features.fit(X_minmax_chi,y_chi)\n",
        "fit.scores_"
      ],
      "execution_count": null,
      "outputs": [
        {
          "output_type": "execute_result",
          "data": {
            "text/plain": [
              "array([6.98139212e+02, 1.92393709e+02, 5.10761133e+02, 4.26876290e+03,\n",
              "       2.65509516e+03, 5.10761133e+02, 1.92821637e+03, 1.15201089e+01,\n",
              "       9.04915663e+02, 8.09545198e+02, 1.62468123e+02, 5.63359087e-01,\n",
              "       4.64693115e+02, 4.64693115e+02, 3.42663472e+02, 1.12680227e+02])"
            ]
          },
          "metadata": {},
          "execution_count": 31
        }
      ]
    },
    {
      "cell_type": "code",
      "metadata": {
        "colab": {
          "base_uri": "https://localhost:8080/",
          "height": 543
        },
        "id": "rmdDrwWSHp2v",
        "outputId": "2f722448-7f0e-4508-c8e9-01eac7786d35"
      },
      "source": [
        "dfscores = pd.DataFrame(fit.scores_)\n",
        "dfcolumns = pd.DataFrame(features)\n",
        "featureScores = pd.concat([dfcolumns,dfscores],axis=1)\n",
        "featureScores.columns = ['Feature','Score']\n",
        "featureScores.sort_values(by='Score',ascending=False)"
      ],
      "execution_count": null,
      "outputs": [
        {
          "output_type": "execute_result",
          "data": {
            "text/html": [
              "<div>\n",
              "<style scoped>\n",
              "    .dataframe tbody tr th:only-of-type {\n",
              "        vertical-align: middle;\n",
              "    }\n",
              "\n",
              "    .dataframe tbody tr th {\n",
              "        vertical-align: top;\n",
              "    }\n",
              "\n",
              "    .dataframe thead th {\n",
              "        text-align: right;\n",
              "    }\n",
              "</style>\n",
              "<table border=\"1\" class=\"dataframe\">\n",
              "  <thead>\n",
              "    <tr style=\"text-align: right;\">\n",
              "      <th></th>\n",
              "      <th>Feature</th>\n",
              "      <th>Score</th>\n",
              "    </tr>\n",
              "  </thead>\n",
              "  <tbody>\n",
              "    <tr>\n",
              "      <th>3</th>\n",
              "      <td>UsedCPUTime</td>\n",
              "      <td>4268.762900</td>\n",
              "    </tr>\n",
              "    <tr>\n",
              "      <th>4</th>\n",
              "      <td>UsedMemory</td>\n",
              "      <td>2655.095158</td>\n",
              "    </tr>\n",
              "    <tr>\n",
              "      <th>6</th>\n",
              "      <td>ReqTime</td>\n",
              "      <td>1928.216371</td>\n",
              "    </tr>\n",
              "    <tr>\n",
              "      <th>8</th>\n",
              "      <td>UserID</td>\n",
              "      <td>904.915663</td>\n",
              "    </tr>\n",
              "    <tr>\n",
              "      <th>9</th>\n",
              "      <td>GroupID</td>\n",
              "      <td>809.545198</td>\n",
              "    </tr>\n",
              "    <tr>\n",
              "      <th>0</th>\n",
              "      <td>SubmitTime</td>\n",
              "      <td>698.139212</td>\n",
              "    </tr>\n",
              "    <tr>\n",
              "      <th>2</th>\n",
              "      <td>NProc</td>\n",
              "      <td>510.761133</td>\n",
              "    </tr>\n",
              "    <tr>\n",
              "      <th>5</th>\n",
              "      <td>ReqNProcs</td>\n",
              "      <td>510.761133</td>\n",
              "    </tr>\n",
              "    <tr>\n",
              "      <th>12</th>\n",
              "      <td>OrigSiteID</td>\n",
              "      <td>464.693115</td>\n",
              "    </tr>\n",
              "    <tr>\n",
              "      <th>13</th>\n",
              "      <td>LastRunSiteID</td>\n",
              "      <td>464.693115</td>\n",
              "    </tr>\n",
              "    <tr>\n",
              "      <th>14</th>\n",
              "      <td>JobStructure</td>\n",
              "      <td>342.663472</td>\n",
              "    </tr>\n",
              "    <tr>\n",
              "      <th>1</th>\n",
              "      <td>WaitTime</td>\n",
              "      <td>192.393709</td>\n",
              "    </tr>\n",
              "    <tr>\n",
              "      <th>10</th>\n",
              "      <td>ExecutableID</td>\n",
              "      <td>162.468123</td>\n",
              "    </tr>\n",
              "    <tr>\n",
              "      <th>15</th>\n",
              "      <td>JobStructureParams</td>\n",
              "      <td>112.680227</td>\n",
              "    </tr>\n",
              "    <tr>\n",
              "      <th>7</th>\n",
              "      <td>Status</td>\n",
              "      <td>11.520109</td>\n",
              "    </tr>\n",
              "    <tr>\n",
              "      <th>11</th>\n",
              "      <td>QueueID</td>\n",
              "      <td>0.563359</td>\n",
              "    </tr>\n",
              "  </tbody>\n",
              "</table>\n",
              "</div>"
            ],
            "text/plain": [
              "               Feature        Score\n",
              "3          UsedCPUTime  4268.762900\n",
              "4           UsedMemory  2655.095158\n",
              "6              ReqTime  1928.216371\n",
              "8               UserID   904.915663\n",
              "9              GroupID   809.545198\n",
              "0           SubmitTime   698.139212\n",
              "2                NProc   510.761133\n",
              "5            ReqNProcs   510.761133\n",
              "12          OrigSiteID   464.693115\n",
              "13       LastRunSiteID   464.693115\n",
              "14        JobStructure   342.663472\n",
              "1             WaitTime   192.393709\n",
              "10        ExecutableID   162.468123\n",
              "15  JobStructureParams   112.680227\n",
              "7               Status    11.520109\n",
              "11             QueueID     0.563359"
            ]
          },
          "metadata": {},
          "execution_count": 32
        }
      ]
    },
    {
      "cell_type": "code",
      "metadata": {
        "id": "qnlnxYf4gDnk"
      },
      "source": [
        "#  X.drop(['Status','WaitTime','JobStructure'],axis=1,inplace=True)\n",
        "# MAIN\n",
        "X.drop(['Status','QueueID','JobStructureParams','ExecutableID','WaitTime'],axis=1,inplace=True)\n",
        "# X.drop(['Status','QueueID','JobStructureParams','ExecutableID','WaitTime','JobStructure'],axis=1,inplace=True)"
      ],
      "execution_count": null,
      "outputs": []
    },
    {
      "cell_type": "markdown",
      "metadata": {
        "id": "gCsOB3dmuCYk"
      },
      "source": [
        "# **ML Techniques**"
      ]
    },
    {
      "cell_type": "code",
      "metadata": {
        "id": "wh22PCRmuqtD"
      },
      "source": [
        "min_max_scaler = preprocessing.MinMaxScaler()\n",
        "X_minmax = min_max_scaler.fit_transform(X)"
      ],
      "execution_count": null,
      "outputs": []
    },
    {
      "cell_type": "code",
      "metadata": {
        "id": "x2a1aUbDuEoK"
      },
      "source": [
        "X_train, X_test, y_train, y_test = train_test_split(X_minmax,y,test_size=0.30,random_state=50)"
      ],
      "execution_count": null,
      "outputs": []
    },
    {
      "cell_type": "code",
      "metadata": {
        "id": "NUOpSkmI_1La"
      },
      "source": [
        ""
      ],
      "execution_count": null,
      "outputs": []
    },
    {
      "cell_type": "markdown",
      "metadata": {
        "id": "HMe-MdLjuvgz"
      },
      "source": [
        "## **XGBOOST**"
      ]
    },
    {
      "cell_type": "code",
      "metadata": {
        "id": "ZGR69C52uv2x"
      },
      "source": [
        "import xgboost as xg\n",
        "from numpy import absolute\n",
        "from sklearn.model_selection import RepeatedKFold\n",
        "from sklearn.model_selection import cross_val_score\n",
        "from sklearn.metrics import mean_squared_log_error\n",
        "from sklearn.metrics import mean_squared_error, r2_score,log_loss"
      ],
      "execution_count": null,
      "outputs": []
    },
    {
      "cell_type": "markdown",
      "metadata": {
        "id": "SRXfHkwDuzhe"
      },
      "source": [
        "## **Default Parameters (Untuned)**"
      ]
    },
    {
      "cell_type": "code",
      "metadata": {
        "id": "GXz77iUJu36z"
      },
      "source": [
        "  xgb_r = xg.XGBRegressor(objective ='reg:squarederror',seed = 123)   # default \n",
        "  xgb_r.fit(X_train, y_train)\n",
        "  pred = xgb_r.predict(X_test)"
      ],
      "execution_count": null,
      "outputs": []
    },
    {
      "cell_type": "code",
      "metadata": {
        "colab": {
          "base_uri": "https://localhost:8080/"
        },
        "id": "SUpzNpyru-jd",
        "outputId": "f64b0f0e-5d51-455b-f540-14a5fc69675a"
      },
      "source": [
        "print('MAE:',mean_absolute_error(y_test,pred))\n",
        "print(\"RMSE\",np.sqrt(mean_squared_error(y_test,pred)))\n",
        "print('R2 Score:',r2_score(y_test,pred))\n"
      ],
      "execution_count": null,
      "outputs": [
        {
          "output_type": "stream",
          "name": "stdout",
          "text": [
            "MAE: 36.14147055293454\n",
            "RMSE 342.4302951424438\n",
            "R2 Score: 0.9900284027664414\n"
          ]
        }
      ]
    },
    {
      "cell_type": "markdown",
      "metadata": {
        "id": "ObTvt7hbvBJD"
      },
      "source": [
        "### **Test Data Vs Predicted Data**"
      ]
    },
    {
      "cell_type": "code",
      "metadata": {
        "colab": {
          "base_uri": "https://localhost:8080/",
          "height": 842
        },
        "id": "PRsNBh6GX81u",
        "outputId": "11344e54-ac8d-472d-aa52-bb7e62c5c6bf"
      },
      "source": [
        "import matplotlib.pyplot as plt\n",
        "from matplotlib.pyplot import figure\n",
        "\n",
        "test = y_test.to_numpy().tolist()\n",
        "predictions = pred.tolist()\n",
        "\n",
        "\n",
        "\n",
        "figure(figsize=(10, 5), dpi=170)\n",
        "\n",
        "plt.plot(test[0:200],'blue', label='Actual Value',linewidth=2)\n",
        "plt.plot(predictions[0:200],'red',label='Model Prediction',linewidth=1)\n",
        "plt.legend()\n",
        "ax = plt.axes()\n",
        "plt.title('XGBoost')\n",
        "ax.set_facecolor(\"#cccccc\")\n",
        "plt.plot()"
      ],
      "execution_count": null,
      "outputs": [
        {
          "output_type": "stream",
          "name": "stderr",
          "text": [
            "/usr/local/lib/python3.7/dist-packages/ipykernel_launcher.py:14: MatplotlibDeprecationWarning: Adding an axes using the same arguments as a previous axes currently reuses the earlier instance.  In a future version, a new instance will always be created and returned.  Meanwhile, this warning can be suppressed, and the future behavior ensured, by passing a unique label to each axes instance.\n",
            "  \n"
          ]
        },
        {
          "output_type": "execute_result",
          "data": {
            "text/plain": [
              "[]"
            ]
          },
          "metadata": {},
          "execution_count": 182
        },
        {
          "output_type": "display_data",
          "data": {
            "image/png": "[encoded data removed]",
            "text/plain": [
              "<Figure size 1700x850 with 1 Axes>"
            ]
          },
          "metadata": {
            "needs_background": "light"
          }
        }
      ]
    },
    {
      "cell_type": "markdown",
      "metadata": {
        "id": "znlYSvtlYGiH"
      },
      "source": [
        "## **Parameter Tuning**"
      ]
    },
    {
      "cell_type": "markdown",
      "metadata": {
        "id": "V0VYk_1sYMN8"
      },
      "source": [
        "### PARAM TEST 1 : Max_Depth & Min_Child_Weight"
      ]
    },
    {
      "cell_type": "code",
      "metadata": {
        "colab": {
          "base_uri": "https://localhost:8080/",
          "height": 371
        },
        "id": "2KwVRiyOYNS1",
        "outputId": "ac2faecd-c070-4b98-e590-4a407b94ef6f"
      },
      "source": [
        "from xgboost.sklearn import XGBRegressor\n",
        "param_test1 = {\n",
        " 'max_depth':range(4,12,1),\n",
        " 'min_child_weight':range(1,6,2)\n",
        "}\n",
        "gsearch1 = GridSearchCV(estimator = XGBRegressor( learning_rate =0.1, n_estimators=140, max_depth=5,\n",
        " min_child_weight=1, gamma=0, subsample=0.8, colsample_bytree=0.8,\n",
        " objective= 'reg:squarederror', nthread=4, scale_pos_weight=1, seed=27), \n",
        " param_grid = param_test1,n_jobs=4,iid=False, cv=5)\n",
        "gsearch1.fit(X_train,y_train)\n",
        "gsearch1.cv_results_, gsearch1.best_params_, gsearch1.best_score_"
      ],
      "execution_count": null,
      "outputs": [
        {
          "output_type": "error",
          "ename": "KeyboardInterrupt",
          "evalue": "ignored",
          "traceback": [
            "\u001b[0;31m---------------------------------------------------------------------------\u001b[0m",
            "\u001b[0;31mKeyboardInterrupt\u001b[0m                         Traceback (most recent call last)",
            "\u001b[0;32m<ipython-input-169-b396d8c6d080>\u001b[0m in \u001b[0;36m<module>\u001b[0;34m()\u001b[0m\n\u001b[1;32m      8\u001b[0m  objective= 'reg:squarederror', nthread=4, scale_pos_weight=1, seed=27), \n\u001b[1;32m      9\u001b[0m  param_grid = param_test1,n_jobs=4,iid=False, cv=5)\n\u001b[0;32m---> 10\u001b[0;31m \u001b[0mgsearch1\u001b[0m\u001b[0;34m.\u001b[0m\u001b[0mfit\u001b[0m\u001b[0;34m(\u001b[0m\u001b[0mX_train\u001b[0m\u001b[0;34m,\u001b[0m\u001b[0my_train\u001b[0m\u001b[0;34m)\u001b[0m\u001b[0;34m\u001b[0m\u001b[0;34m\u001b[0m\u001b[0m\n\u001b[0m\u001b[1;32m     11\u001b[0m \u001b[0mgsearch1\u001b[0m\u001b[0;34m.\u001b[0m\u001b[0mcv_results_\u001b[0m\u001b[0;34m,\u001b[0m \u001b[0mgsearch1\u001b[0m\u001b[0;34m.\u001b[0m\u001b[0mbest_params_\u001b[0m\u001b[0;34m,\u001b[0m \u001b[0mgsearch1\u001b[0m\u001b[0;34m.\u001b[0m\u001b[0mbest_score_\u001b[0m\u001b[0;34m\u001b[0m\u001b[0;34m\u001b[0m\u001b[0m\n",
            "\u001b[0;32m/usr/local/lib/python3.7/dist-packages/sklearn/model_selection/_search.py\u001b[0m in \u001b[0;36mfit\u001b[0;34m(self, X, y, groups, **fit_params)\u001b[0m\n\u001b[1;32m    708\u001b[0m                 \u001b[0;32mreturn\u001b[0m \u001b[0mresults\u001b[0m\u001b[0;34m\u001b[0m\u001b[0;34m\u001b[0m\u001b[0m\n\u001b[1;32m    709\u001b[0m \u001b[0;34m\u001b[0m\u001b[0m\n\u001b[0;32m--> 710\u001b[0;31m             \u001b[0mself\u001b[0m\u001b[0;34m.\u001b[0m\u001b[0m_run_search\u001b[0m\u001b[0;34m(\u001b[0m\u001b[0mevaluate_candidates\u001b[0m\u001b[0;34m)\u001b[0m\u001b[0;34m\u001b[0m\u001b[0;34m\u001b[0m\u001b[0m\n\u001b[0m\u001b[1;32m    711\u001b[0m \u001b[0;34m\u001b[0m\u001b[0m\n\u001b[1;32m    712\u001b[0m         \u001b[0;31m# For multi-metric evaluation, store the best_index_, best_params_ and\u001b[0m\u001b[0;34m\u001b[0m\u001b[0;34m\u001b[0m\u001b[0;34m\u001b[0m\u001b[0m\n",
            "\u001b[0;32m/usr/local/lib/python3.7/dist-packages/sklearn/model_selection/_search.py\u001b[0m in \u001b[0;36m_run_search\u001b[0;34m(self, evaluate_candidates)\u001b[0m\n\u001b[1;32m   1149\u001b[0m     \u001b[0;32mdef\u001b[0m \u001b[0m_run_search\u001b[0m\u001b[0;34m(\u001b[0m\u001b[0mself\u001b[0m\u001b[0;34m,\u001b[0m \u001b[0mevaluate_candidates\u001b[0m\u001b[0;34m)\u001b[0m\u001b[0;34m:\u001b[0m\u001b[0;34m\u001b[0m\u001b[0;34m\u001b[0m\u001b[0m\n\u001b[1;32m   1150\u001b[0m         \u001b[0;34m\"\"\"Search all candidates in param_grid\"\"\"\u001b[0m\u001b[0;34m\u001b[0m\u001b[0;34m\u001b[0m\u001b[0m\n\u001b[0;32m-> 1151\u001b[0;31m         \u001b[0mevaluate_candidates\u001b[0m\u001b[0;34m(\u001b[0m\u001b[0mParameterGrid\u001b[0m\u001b[0;34m(\u001b[0m\u001b[0mself\u001b[0m\u001b[0;34m.\u001b[0m\u001b[0mparam_grid\u001b[0m\u001b[0;34m)\u001b[0m\u001b[0;34m)\u001b[0m\u001b[0;34m\u001b[0m\u001b[0;34m\u001b[0m\u001b[0m\n\u001b[0m\u001b[1;32m   1152\u001b[0m \u001b[0;34m\u001b[0m\u001b[0m\n\u001b[1;32m   1153\u001b[0m \u001b[0;34m\u001b[0m\u001b[0m\n",
            "\u001b[0;32m/usr/local/lib/python3.7/dist-packages/sklearn/model_selection/_search.py\u001b[0m in \u001b[0;36mevaluate_candidates\u001b[0;34m(candidate_params)\u001b[0m\n\u001b[1;32m    687\u001b[0m                                \u001b[0;32mfor\u001b[0m \u001b[0mparameters\u001b[0m\u001b[0;34m,\u001b[0m \u001b[0;34m(\u001b[0m\u001b[0mtrain\u001b[0m\u001b[0;34m,\u001b[0m \u001b[0mtest\u001b[0m\u001b[0;34m)\u001b[0m\u001b[0;34m\u001b[0m\u001b[0;34m\u001b[0m\u001b[0m\n\u001b[1;32m    688\u001b[0m                                in product(candidate_params,\n\u001b[0;32m--> 689\u001b[0;31m                                           cv.split(X, y, groups)))\n\u001b[0m\u001b[1;32m    690\u001b[0m \u001b[0;34m\u001b[0m\u001b[0m\n\u001b[1;32m    691\u001b[0m                 \u001b[0;32mif\u001b[0m \u001b[0mlen\u001b[0m\u001b[0;34m(\u001b[0m\u001b[0mout\u001b[0m\u001b[0;34m)\u001b[0m \u001b[0;34m<\u001b[0m \u001b[0;36m1\u001b[0m\u001b[0;34m:\u001b[0m\u001b[0;34m\u001b[0m\u001b[0;34m\u001b[0m\u001b[0m\n",
            "\u001b[0;32m/usr/local/lib/python3.7/dist-packages/joblib/parallel.py\u001b[0m in \u001b[0;36m__call__\u001b[0;34m(self, iterable)\u001b[0m\n\u001b[1;32m   1052\u001b[0m \u001b[0;34m\u001b[0m\u001b[0m\n\u001b[1;32m   1053\u001b[0m             \u001b[0;32mwith\u001b[0m \u001b[0mself\u001b[0m\u001b[0;34m.\u001b[0m\u001b[0m_backend\u001b[0m\u001b[0;34m.\u001b[0m\u001b[0mretrieval_context\u001b[0m\u001b[0;34m(\u001b[0m\u001b[0;34m)\u001b[0m\u001b[0;34m:\u001b[0m\u001b[0;34m\u001b[0m\u001b[0;34m\u001b[0m\u001b[0m\n\u001b[0;32m-> 1054\u001b[0;31m                 \u001b[0mself\u001b[0m\u001b[0;34m.\u001b[0m\u001b[0mretrieve\u001b[0m\u001b[0;34m(\u001b[0m\u001b[0;34m)\u001b[0m\u001b[0;34m\u001b[0m\u001b[0;34m\u001b[0m\u001b[0m\n\u001b[0m\u001b[1;32m   1055\u001b[0m             \u001b[0;31m# Make sure that we get a last message telling us we are done\u001b[0m\u001b[0;34m\u001b[0m\u001b[0;34m\u001b[0m\u001b[0;34m\u001b[0m\u001b[0m\n\u001b[1;32m   1056\u001b[0m             \u001b[0melapsed_time\u001b[0m \u001b[0;34m=\u001b[0m \u001b[0mtime\u001b[0m\u001b[0;34m.\u001b[0m\u001b[0mtime\u001b[0m\u001b[0;34m(\u001b[0m\u001b[0;34m)\u001b[0m \u001b[0;34m-\u001b[0m \u001b[0mself\u001b[0m\u001b[0;34m.\u001b[0m\u001b[0m_start_time\u001b[0m\u001b[0;34m\u001b[0m\u001b[0;34m\u001b[0m\u001b[0m\n",
            "\u001b[0;32m/usr/local/lib/python3.7/dist-packages/joblib/parallel.py\u001b[0m in \u001b[0;36mretrieve\u001b[0;34m(self)\u001b[0m\n\u001b[1;32m    931\u001b[0m             \u001b[0;32mtry\u001b[0m\u001b[0;34m:\u001b[0m\u001b[0;34m\u001b[0m\u001b[0;34m\u001b[0m\u001b[0m\n\u001b[1;32m    932\u001b[0m                 \u001b[0;32mif\u001b[0m \u001b[0mgetattr\u001b[0m\u001b[0;34m(\u001b[0m\u001b[0mself\u001b[0m\u001b[0;34m.\u001b[0m\u001b[0m_backend\u001b[0m\u001b[0;34m,\u001b[0m \u001b[0;34m'supports_timeout'\u001b[0m\u001b[0;34m,\u001b[0m \u001b[0;32mFalse\u001b[0m\u001b[0;34m)\u001b[0m\u001b[0;34m:\u001b[0m\u001b[0;34m\u001b[0m\u001b[0;34m\u001b[0m\u001b[0m\n\u001b[0;32m--> 933\u001b[0;31m                     \u001b[0mself\u001b[0m\u001b[0;34m.\u001b[0m\u001b[0m_output\u001b[0m\u001b[0;34m.\u001b[0m\u001b[0mextend\u001b[0m\u001b[0;34m(\u001b[0m\u001b[0mjob\u001b[0m\u001b[0;34m.\u001b[0m\u001b[0mget\u001b[0m\u001b[0;34m(\u001b[0m\u001b[0mtimeout\u001b[0m\u001b[0;34m=\u001b[0m\u001b[0mself\u001b[0m\u001b[0;34m.\u001b[0m\u001b[0mtimeout\u001b[0m\u001b[0;34m)\u001b[0m\u001b[0;34m)\u001b[0m\u001b[0;34m\u001b[0m\u001b[0;34m\u001b[0m\u001b[0m\n\u001b[0m\u001b[1;32m    934\u001b[0m                 \u001b[0;32melse\u001b[0m\u001b[0;34m:\u001b[0m\u001b[0;34m\u001b[0m\u001b[0;34m\u001b[0m\u001b[0m\n\u001b[1;32m    935\u001b[0m                     \u001b[0mself\u001b[0m\u001b[0;34m.\u001b[0m\u001b[0m_output\u001b[0m\u001b[0;34m.\u001b[0m\u001b[0mextend\u001b[0m\u001b[0;34m(\u001b[0m\u001b[0mjob\u001b[0m\u001b[0;34m.\u001b[0m\u001b[0mget\u001b[0m\u001b[0;34m(\u001b[0m\u001b[0;34m)\u001b[0m\u001b[0;34m)\u001b[0m\u001b[0;34m\u001b[0m\u001b[0;34m\u001b[0m\u001b[0m\n",
            "\u001b[0;32m/usr/local/lib/python3.7/dist-packages/joblib/_parallel_backends.py\u001b[0m in \u001b[0;36mwrap_future_result\u001b[0;34m(future, timeout)\u001b[0m\n\u001b[1;32m    540\u001b[0m         AsyncResults.get from multiprocessing.\"\"\"\n\u001b[1;32m    541\u001b[0m         \u001b[0;32mtry\u001b[0m\u001b[0;34m:\u001b[0m\u001b[0;34m\u001b[0m\u001b[0;34m\u001b[0m\u001b[0m\n\u001b[0;32m--> 542\u001b[0;31m             \u001b[0;32mreturn\u001b[0m \u001b[0mfuture\u001b[0m\u001b[0;34m.\u001b[0m\u001b[0mresult\u001b[0m\u001b[0;34m(\u001b[0m\u001b[0mtimeout\u001b[0m\u001b[0;34m=\u001b[0m\u001b[0mtimeout\u001b[0m\u001b[0;34m)\u001b[0m\u001b[0;34m\u001b[0m\u001b[0;34m\u001b[0m\u001b[0m\n\u001b[0m\u001b[1;32m    543\u001b[0m         \u001b[0;32mexcept\u001b[0m \u001b[0mCfTimeoutError\u001b[0m \u001b[0;32mas\u001b[0m \u001b[0me\u001b[0m\u001b[0;34m:\u001b[0m\u001b[0;34m\u001b[0m\u001b[0;34m\u001b[0m\u001b[0m\n\u001b[1;32m    544\u001b[0m             \u001b[0;32mraise\u001b[0m \u001b[0mTimeoutError\u001b[0m \u001b[0;32mfrom\u001b[0m \u001b[0me\u001b[0m\u001b[0;34m\u001b[0m\u001b[0;34m\u001b[0m\u001b[0m\n",
            "\u001b[0;32m/usr/lib/python3.7/concurrent/futures/_base.py\u001b[0m in \u001b[0;36mresult\u001b[0;34m(self, timeout)\u001b[0m\n\u001b[1;32m    428\u001b[0m                 \u001b[0;32mreturn\u001b[0m \u001b[0mself\u001b[0m\u001b[0;34m.\u001b[0m\u001b[0m__get_result\u001b[0m\u001b[0;34m(\u001b[0m\u001b[0;34m)\u001b[0m\u001b[0;34m\u001b[0m\u001b[0;34m\u001b[0m\u001b[0m\n\u001b[1;32m    429\u001b[0m \u001b[0;34m\u001b[0m\u001b[0m\n\u001b[0;32m--> 430\u001b[0;31m             \u001b[0mself\u001b[0m\u001b[0;34m.\u001b[0m\u001b[0m_condition\u001b[0m\u001b[0;34m.\u001b[0m\u001b[0mwait\u001b[0m\u001b[0;34m(\u001b[0m\u001b[0mtimeout\u001b[0m\u001b[0;34m)\u001b[0m\u001b[0;34m\u001b[0m\u001b[0;34m\u001b[0m\u001b[0m\n\u001b[0m\u001b[1;32m    431\u001b[0m \u001b[0;34m\u001b[0m\u001b[0m\n\u001b[1;32m    432\u001b[0m             \u001b[0;32mif\u001b[0m \u001b[0mself\u001b[0m\u001b[0;34m.\u001b[0m\u001b[0m_state\u001b[0m \u001b[0;32min\u001b[0m \u001b[0;34m[\u001b[0m\u001b[0mCANCELLED\u001b[0m\u001b[0;34m,\u001b[0m \u001b[0mCANCELLED_AND_NOTIFIED\u001b[0m\u001b[0;34m]\u001b[0m\u001b[0;34m:\u001b[0m\u001b[0;34m\u001b[0m\u001b[0;34m\u001b[0m\u001b[0m\n",
            "\u001b[0;32m/usr/lib/python3.7/threading.py\u001b[0m in \u001b[0;36mwait\u001b[0;34m(self, timeout)\u001b[0m\n\u001b[1;32m    294\u001b[0m         \u001b[0;32mtry\u001b[0m\u001b[0;34m:\u001b[0m    \u001b[0;31m# restore state no matter what (e.g., KeyboardInterrupt)\u001b[0m\u001b[0;34m\u001b[0m\u001b[0;34m\u001b[0m\u001b[0m\n\u001b[1;32m    295\u001b[0m             \u001b[0;32mif\u001b[0m \u001b[0mtimeout\u001b[0m \u001b[0;32mis\u001b[0m \u001b[0;32mNone\u001b[0m\u001b[0;34m:\u001b[0m\u001b[0;34m\u001b[0m\u001b[0;34m\u001b[0m\u001b[0m\n\u001b[0;32m--> 296\u001b[0;31m                 \u001b[0mwaiter\u001b[0m\u001b[0;34m.\u001b[0m\u001b[0macquire\u001b[0m\u001b[0;34m(\u001b[0m\u001b[0;34m)\u001b[0m\u001b[0;34m\u001b[0m\u001b[0;34m\u001b[0m\u001b[0m\n\u001b[0m\u001b[1;32m    297\u001b[0m                 \u001b[0mgotit\u001b[0m \u001b[0;34m=\u001b[0m \u001b[0;32mTrue\u001b[0m\u001b[0;34m\u001b[0m\u001b[0;34m\u001b[0m\u001b[0m\n\u001b[1;32m    298\u001b[0m             \u001b[0;32melse\u001b[0m\u001b[0;34m:\u001b[0m\u001b[0;34m\u001b[0m\u001b[0;34m\u001b[0m\u001b[0m\n",
            "\u001b[0;31mKeyboardInterrupt\u001b[0m: "
          ]
        }
      ]
    },
    {
      "cell_type": "code",
      "metadata": {
        "colab": {
          "base_uri": "https://localhost:8080/"
        },
        "id": "HvJOUhlSYUgq",
        "outputId": "3ffd1b31-d83c-4d59-e701-4330599038cb"
      },
      "source": [
        "gsearch1.best_params_"
      ],
      "execution_count": null,
      "outputs": [
        {
          "data": {
            "text/plain": [
              "{'max_depth': 4, 'min_child_weight': 1}"
            ]
          },
          "execution_count": 97,
          "metadata": {},
          "output_type": "execute_result"
        }
      ]
    },
    {
      "cell_type": "code",
      "metadata": {
        "id": "hJ2CO3cPZCTb"
      },
      "source": [
        "# #XGBoost hyper-parameter tuning\n",
        "# param_tuning = {\n",
        "#         'learning_rate': [0.01, 0.1],\n",
        "#         'subsample': [0.5, 0.7],\n",
        "#         'colsample_bytree': [0.5, 0.7],\n",
        "#         'n_estimators' : [100, 200, 500, 700 , 800, 1000],\n",
        "#         'objective': ['reg:squarederror']\n",
        "#   }\n",
        "\n",
        "# xgb_model = XGBRegressor()\n",
        "\n",
        "# gsearch = GridSearchCV(estimator = xgb_model,\n",
        "#                            param_grid = param_tuning,                        \n",
        "#                            scoring = 'neg_mean_absolute_error', #MAE\n",
        "#                           #  scoring = 'neg_mean_squared_error',  #MSE\n",
        "#                            cv = 5,\n",
        "#                            n_jobs = -1,\n",
        "#                            verbose = 1)\n",
        "\n",
        "# gsearch.fit(X_train,y_train)\n",
        "\n",
        "# gsearch.best_params_"
      ],
      "execution_count": null,
      "outputs": []
    },
    {
      "cell_type": "markdown",
      "metadata": {
        "id": "UwwbKuVR2Yqw"
      },
      "source": [
        "## **XGBOOST [Tuned]**"
      ]
    },
    {
      "cell_type": "code",
      "metadata": {
        "id": "YP2GHpnoaI-e"
      },
      "source": [
        "  xgb_r = xg.XGBRegressor(objective ='reg:squarederror',colsample_bytree= 0.7,learning_rate= 0.1,subsample= 0.7,n_estimators= 1000,max_depth= 4,min_child_weight= 1,seed = 123)   # Tuned\n",
        "  xgb_r.fit(X_train, y_train)\n",
        "  pred = xgb_r.predict(X_test)"
      ],
      "execution_count": null,
      "outputs": []
    },
    {
      "cell_type": "code",
      "metadata": {
        "colab": {
          "base_uri": "https://localhost:8080/"
        },
        "id": "sQmzm3bddF2I",
        "outputId": "9b0d4a0b-b21f-4285-d37f-84d8a4d30c89"
      },
      "source": [
        "print('MAE:',mean_absolute_error(y_test,pred))\n",
        "print(\"RMSE\",np.sqrt(mean_squared_error(y_test,pred)))\n",
        "print('R2 Score:',r2_score(y_test,pred))"
      ],
      "execution_count": null,
      "outputs": [
        {
          "output_type": "stream",
          "name": "stdout",
          "text": [
            "MAE: 31.06844704772035\n",
            "RMSE 432.5588648088285\n",
            "R2 Score: 0.9840885117746211\n"
          ]
        }
      ]
    },
    {
      "cell_type": "code",
      "metadata": {
        "colab": {
          "base_uri": "https://localhost:8080/",
          "height": 664
        },
        "id": "ctkyctCZ2x9g",
        "outputId": "12e52959-0b1e-41aa-843a-9ab3f2b357f2"
      },
      "source": [
        "import matplotlib.pyplot as plt\n",
        "from matplotlib.pyplot import figure\n",
        "\n",
        "test = y_test.to_numpy().tolist()\n",
        "predictions = pred.tolist()\n",
        "\n",
        "\n",
        "\n",
        "figure(figsize=(10, 5), dpi=130)\n",
        "\n",
        "plt.plot(test[0:200],'blue', label='Test',linewidth=2)\n",
        "plt.plot(predictions[0:200],'red',label='Predictions',linewidth=1)\n",
        "plt.legend()\n",
        "ax = plt.axes()\n",
        "plt.title('XGBoost [Tuned]')\n",
        "ax.set_facecolor(\"#cccccc\")\n",
        "plt.plot()"
      ],
      "execution_count": null,
      "outputs": [
        {
          "output_type": "stream",
          "name": "stderr",
          "text": [
            "/usr/local/lib/python3.7/dist-packages/ipykernel_launcher.py:14: MatplotlibDeprecationWarning: Adding an axes using the same arguments as a previous axes currently reuses the earlier instance.  In a future version, a new instance will always be created and returned.  Meanwhile, this warning can be suppressed, and the future behavior ensured, by passing a unique label to each axes instance.\n",
            "  \n"
          ]
        },
        {
          "output_type": "execute_result",
          "data": {
            "text/plain": [
              "[]"
            ]
          },
          "metadata": {},
          "execution_count": 172
        },
        {
          "output_type": "display_data",
          "data": {
            "image/png": "[encoded data removed]",
            "text/plain": [
              "<Figure size 1300x650 with 1 Axes>"
            ]
          },
          "metadata": {
            "needs_background": "light"
          }
        }
      ]
    },
    {
      "cell_type": "markdown",
      "metadata": {
        "id": "H22WA0bT1Of5"
      },
      "source": [
        "## **n_estimators Vs MAE Plot**"
      ]
    },
    {
      "cell_type": "code",
      "metadata": {
        "id": "NfWnO_HR1dAy",
        "colab": {
          "base_uri": "https://localhost:8080/",
          "height": 240
        },
        "outputId": "8a590c2a-43fb-49df-f061-668b21aab3c3"
      },
      "source": [
        "estimators = [100,200,300,400,500,600,700,800,900,1000]\n",
        "mae = []\n",
        "\n",
        "for i in estimators:\n",
        "  xgb_r = xg.XGBRegressor(objective ='reg:squarederror',colsample_bytree= 0.7,learning_rate= 0.1,subsample= 0.7,n_estimators= i,max_depth= 4,min_child_weight= 1,seed = 123)\n",
        "  xgb_r.fit(X_train, y_train)\n",
        "  pred = xgb_r.predict(X_test)\n",
        "  mae.append(mean_absolute_error(y_test,pred))"
      ],
      "execution_count": null,
      "outputs": [
        {
          "output_type": "error",
          "ename": "NameError",
          "evalue": "ignored",
          "traceback": [
            "\u001b[0;31m---------------------------------------------------------------------------\u001b[0m",
            "\u001b[0;31mNameError\u001b[0m                                 Traceback (most recent call last)",
            "\u001b[0;32m<ipython-input-1-8a43c0eeaaf5>\u001b[0m in \u001b[0;36m<module>\u001b[0;34m()\u001b[0m\n\u001b[1;32m      3\u001b[0m \u001b[0;34m\u001b[0m\u001b[0m\n\u001b[1;32m      4\u001b[0m \u001b[0;32mfor\u001b[0m \u001b[0mi\u001b[0m \u001b[0;32min\u001b[0m \u001b[0mestimators\u001b[0m\u001b[0;34m:\u001b[0m\u001b[0;34m\u001b[0m\u001b[0;34m\u001b[0m\u001b[0m\n\u001b[0;32m----> 5\u001b[0;31m   \u001b[0mxgb_r\u001b[0m \u001b[0;34m=\u001b[0m \u001b[0mxg\u001b[0m\u001b[0;34m.\u001b[0m\u001b[0mXGBRegressor\u001b[0m\u001b[0;34m(\u001b[0m\u001b[0mobjective\u001b[0m \u001b[0;34m=\u001b[0m\u001b[0;34m'reg:squarederror'\u001b[0m\u001b[0;34m,\u001b[0m\u001b[0mcolsample_bytree\u001b[0m\u001b[0;34m=\u001b[0m \u001b[0;36m0.7\u001b[0m\u001b[0;34m,\u001b[0m\u001b[0mlearning_rate\u001b[0m\u001b[0;34m=\u001b[0m \u001b[0;36m0.1\u001b[0m\u001b[0;34m,\u001b[0m\u001b[0msubsample\u001b[0m\u001b[0;34m=\u001b[0m \u001b[0;36m0.7\u001b[0m\u001b[0;34m,\u001b[0m\u001b[0mn_estimators\u001b[0m\u001b[0;34m=\u001b[0m \u001b[0mi\u001b[0m\u001b[0;34m,\u001b[0m\u001b[0mmax_depth\u001b[0m\u001b[0;34m=\u001b[0m \u001b[0;36m4\u001b[0m\u001b[0;34m,\u001b[0m\u001b[0mmin_child_weight\u001b[0m\u001b[0;34m=\u001b[0m \u001b[0;36m1\u001b[0m\u001b[0;34m,\u001b[0m\u001b[0mseed\u001b[0m \u001b[0;34m=\u001b[0m \u001b[0;36m123\u001b[0m\u001b[0;34m)\u001b[0m\u001b[0;34m\u001b[0m\u001b[0;34m\u001b[0m\u001b[0m\n\u001b[0m\u001b[1;32m      6\u001b[0m   \u001b[0mxgb_r\u001b[0m\u001b[0;34m.\u001b[0m\u001b[0mfit\u001b[0m\u001b[0;34m(\u001b[0m\u001b[0mX_train\u001b[0m\u001b[0;34m,\u001b[0m \u001b[0my_train\u001b[0m\u001b[0;34m)\u001b[0m\u001b[0;34m\u001b[0m\u001b[0;34m\u001b[0m\u001b[0m\n\u001b[1;32m      7\u001b[0m   \u001b[0mpred\u001b[0m \u001b[0;34m=\u001b[0m \u001b[0mxgb_r\u001b[0m\u001b[0;34m.\u001b[0m\u001b[0mpredict\u001b[0m\u001b[0;34m(\u001b[0m\u001b[0mX_test\u001b[0m\u001b[0;34m)\u001b[0m\u001b[0;34m\u001b[0m\u001b[0;34m\u001b[0m\u001b[0m\n",
            "\u001b[0;31mNameError\u001b[0m: name 'xg' is not defined"
          ]
        }
      ]
    },
    {
      "cell_type": "code",
      "metadata": {
        "colab": {
          "base_uri": "https://localhost:8080/",
          "height": 314
        },
        "id": "ZD2UgdXp1yFo",
        "outputId": "512f907b-237d-41d2-faa8-19fdf4527e53"
      },
      "source": [
        "import matplotlib.pyplot as plt\n",
        "plt.plot(estimators, mae)\n",
        "plt.title('Mean Absolute Error (MAE) Vs n_estimators')\n",
        "plt.xlabel('n_estimators')\n",
        "plt.ylabel('MAE')"
      ],
      "execution_count": null,
      "outputs": [
        {
          "output_type": "execute_result",
          "data": {
            "text/plain": [
              "Text(0, 0.5, 'MAE')"
            ]
          },
          "metadata": {},
          "execution_count": 157
        },
        {
          "output_type": "display_data",
          "data": {
            "image/png": "[encoded data removed]",
            "text/plain": [
              "<Figure size 432x288 with 1 Axes>"
            ]
          },
          "metadata": {
            "needs_background": "light"
          }
        }
      ]
    },
    {
      "cell_type": "markdown",
      "metadata": {
        "id": "9kpTO_Uk9CEM"
      },
      "source": [
        "## **KNN**"
      ]
    },
    {
      "cell_type": "code",
      "metadata": {
        "id": "FxTV1N1ZAMgl"
      },
      "source": [
        "# sample_df"
      ],
      "execution_count": null,
      "outputs": []
    },
    {
      "cell_type": "markdown",
      "metadata": {
        "id": "sAFMWxysEYNP"
      },
      "source": [
        "### One hot Encoding for KNN "
      ]
    },
    {
      "cell_type": "code",
      "metadata": {
        "id": "05Sx40jMAPDL"
      },
      "source": [
        "# X_knn = pd.get_dummies(sample_df,columns=['UserID','GroupID','ExecutableID'])"
      ],
      "execution_count": null,
      "outputs": []
    },
    {
      "cell_type": "code",
      "metadata": {
        "id": "ZTxZ-49xAYWx"
      },
      "source": [
        "# X_knn"
      ],
      "execution_count": null,
      "outputs": []
    },
    {
      "cell_type": "code",
      "metadata": {
        "id": "nkttGkZqAbP9"
      },
      "source": [
        "# min_max_scaler = preprocessing.MinMaxScaler()\n",
        "# X_minmax_knn = min_max_scaler.fit_transform(X_knn)"
      ],
      "execution_count": null,
      "outputs": []
    },
    {
      "cell_type": "code",
      "metadata": {
        "id": "ZXEcRe6aAhQ_"
      },
      "source": [
        "# X_train, X_test, y_train, y_test = train_test_split(X_minmax_knn,y,test_size=0.30,random_state=50)"
      ],
      "execution_count": null,
      "outputs": []
    },
    {
      "cell_type": "code",
      "metadata": {
        "id": "tArKP-dS9H44"
      },
      "source": [
        "from sklearn.neighbors import KNeighborsRegressor\n",
        "\n",
        "#Create KNN Classifier\n",
        "knn = KNeighborsRegressor(n_neighbors=3)\n",
        "\n",
        "#Train the model using the training sets\n",
        "knn.fit(X_train, y_train)\n",
        "\n",
        "#Predict the response for test dataset\n",
        "knn_pred = knn.predict(X_test)"
      ],
      "execution_count": null,
      "outputs": []
    },
    {
      "cell_type": "code",
      "metadata": {
        "colab": {
          "base_uri": "https://localhost:8080/"
        },
        "id": "KIZ6H0Cb9KVN",
        "outputId": "7866e342-7f27-487c-bcac-e32cf1c2bca6"
      },
      "source": [
        "knn.score(X_test, y_test)"
      ],
      "execution_count": null,
      "outputs": [
        {
          "output_type": "execute_result",
          "data": {
            "text/plain": [
              "0.582479564912809"
            ]
          },
          "metadata": {},
          "execution_count": 174
        }
      ]
    },
    {
      "cell_type": "code",
      "metadata": {
        "colab": {
          "base_uri": "https://localhost:8080/"
        },
        "id": "BFNkzkTK9MB_",
        "outputId": "8b6c66e1-3505-4a08-a22f-3383d7467f8d"
      },
      "source": [
        "from sklearn.metrics import mean_squared_error, r2_score\n",
        "print('MAE:',mean_absolute_error(y_test,knn_pred))\n",
        "print(\"RMSE\",np.sqrt(mean_squared_error(y_test,knn_pred)))\n",
        "print('R2 Score:',r2_score(y_test,knn_pred))"
      ],
      "execution_count": null,
      "outputs": [
        {
          "output_type": "stream",
          "name": "stdout",
          "text": [
            "MAE: 242.70318518518516\n",
            "RMSE 2215.7904393324375\n",
            "R2 Score: 0.582479564912809\n"
          ]
        }
      ]
    },
    {
      "cell_type": "code",
      "metadata": {
        "colab": {
          "base_uri": "https://localhost:8080/",
          "height": 664
        },
        "id": "m5rvQwdH9NSO",
        "outputId": "ee939fb5-24d3-4afd-c44a-6ab643f1415d"
      },
      "source": [
        "knn_predList = knn_pred.tolist()\n",
        "test = y_test.tolist()\n",
        "\n",
        "figure(figsize=(10, 5), dpi=130)\n",
        "\n",
        "plt.plot(test[0:200],'blue', label='Actual Value',linewidth=2)\n",
        "plt.plot(knn_predList[0:200],'red',label='Model Prediction',linewidth=1)\n",
        "plt.title('KNN')\n",
        "plt.legend()\n",
        "ax = plt.axes()\n",
        "ax.set_facecolor(\"#cccccc\")\n",
        "plt.plot()"
      ],
      "execution_count": null,
      "outputs": [
        {
          "output_type": "stream",
          "name": "stderr",
          "text": [
            "/usr/local/lib/python3.7/dist-packages/ipykernel_launcher.py:10: MatplotlibDeprecationWarning: Adding an axes using the same arguments as a previous axes currently reuses the earlier instance.  In a future version, a new instance will always be created and returned.  Meanwhile, this warning can be suppressed, and the future behavior ensured, by passing a unique label to each axes instance.\n",
            "  # Remove the CWD from sys.path while we load stuff.\n"
          ]
        },
        {
          "output_type": "execute_result",
          "data": {
            "text/plain": [
              "[]"
            ]
          },
          "metadata": {},
          "execution_count": 181
        },
        {
          "output_type": "display_data",
          "data": {
            "image/png": "[encoded data removed]",
            "text/plain": [
              "<Figure size 1300x650 with 1 Axes>"
            ]
          },
          "metadata": {
            "needs_background": "light"
          }
        }
      ]
    },
    {
      "cell_type": "code",
      "metadata": {
        "colab": {
          "base_uri": "https://localhost:8080/"
        },
        "id": "17ADYDkFy5g5",
        "outputId": "11b82a2c-c44f-4697-8886-0d5b6e21f12b"
      },
      "source": [
        "import sklearn\n",
        "sklearn.metrics.SCORERS.keys()"
      ],
      "execution_count": null,
      "outputs": [
        {
          "output_type": "execute_result",
          "data": {
            "text/plain": [
              "dict_keys(['explained_variance', 'r2', 'max_error', 'neg_median_absolute_error', 'neg_mean_absolute_error', 'neg_mean_squared_error', 'neg_mean_squared_log_error', 'neg_root_mean_squared_error', 'neg_mean_poisson_deviance', 'neg_mean_gamma_deviance', 'accuracy', 'roc_auc', 'roc_auc_ovr', 'roc_auc_ovo', 'roc_auc_ovr_weighted', 'roc_auc_ovo_weighted', 'balanced_accuracy', 'average_precision', 'neg_log_loss', 'neg_brier_score', 'adjusted_rand_score', 'homogeneity_score', 'completeness_score', 'v_measure_score', 'mutual_info_score', 'adjusted_mutual_info_score', 'normalized_mutual_info_score', 'fowlkes_mallows_score', 'precision', 'precision_macro', 'precision_micro', 'precision_samples', 'precision_weighted', 'recall', 'recall_macro', 'recall_micro', 'recall_samples', 'recall_weighted', 'f1', 'f1_macro', 'f1_micro', 'f1_samples', 'f1_weighted', 'jaccard', 'jaccard_macro', 'jaccard_micro', 'jaccard_samples', 'jaccard_weighted'])"
            ]
          },
          "metadata": {},
          "execution_count": 171
        }
      ]
    },
    {
      "cell_type": "code",
      "metadata": {
        "colab": {
          "base_uri": "https://localhost:8080/"
        },
        "id": "tfTPZ3bvHeLt",
        "outputId": "e745cc48-dbf3-4303-e46c-2429f1ed2b3e"
      },
      "source": [
        "# Select an algorithm\n",
        "from sklearn.model_selection import KFold\n",
        "algorithm = KNeighborsRegressor()\n",
        "\n",
        "# Create 3 folds\n",
        "seed = 13\n",
        "kfold = KFold(n_splits=10, shuffle=True, random_state=seed)\n",
        "\n",
        "# Define our candidate hyperparameters\n",
        "hp_candidates = [{'n_neighbors': [1,2,3,4,5,6], 'weights': ['uniform','distance']}]\n",
        "\n",
        "# Search for best hyperparameters\n",
        "grid = GridSearchCV(estimator=algorithm, param_grid=hp_candidates, cv=kfold, scoring='neg_root_mean_squared_error')\n",
        "grid.fit(X_train, y_train)"
      ],
      "execution_count": null,
      "outputs": [
        {
          "output_type": "execute_result",
          "data": {
            "text/plain": [
              "GridSearchCV(cv=KFold(n_splits=10, random_state=13, shuffle=True),\n",
              "             error_score=nan,\n",
              "             estimator=KNeighborsRegressor(algorithm='auto', leaf_size=30,\n",
              "                                           metric='minkowski',\n",
              "                                           metric_params=None, n_jobs=None,\n",
              "                                           n_neighbors=5, p=2,\n",
              "                                           weights='uniform'),\n",
              "             iid='deprecated', n_jobs=None,\n",
              "             param_grid=[{'n_neighbors': [1, 2, 3, 4, 5, 6],\n",
              "                          'weights': ['uniform', 'distance']}],\n",
              "             pre_dispatch='2*n_jobs', refit=True, return_train_score=False,\n",
              "             scoring='neg_root_mean_squared_error', verbose=0)"
            ]
          },
          "metadata": {},
          "execution_count": 56
        }
      ]
    },
    {
      "cell_type": "code",
      "metadata": {
        "colab": {
          "base_uri": "https://localhost:8080/"
        },
        "id": "5rXRXi4MHmCI",
        "outputId": "278b9b4b-9b76-427c-8cab-0cd6f5151769"
      },
      "source": [
        "print(grid.best_score_)\n",
        "print(grid.best_estimator_)\n",
        "print(grid.best_params_)"
      ],
      "execution_count": null,
      "outputs": [
        {
          "output_type": "stream",
          "name": "stdout",
          "text": [
            "-2600.5985904017675\n",
            "KNeighborsRegressor(algorithm='auto', leaf_size=30, metric='minkowski',\n",
            "                    metric_params=None, n_jobs=None, n_neighbors=4, p=2,\n",
            "                    weights='distance')\n",
            "{'n_neighbors': 4, 'weights': 'distance'}\n"
          ]
        }
      ]
    },
    {
      "cell_type": "code",
      "metadata": {
        "id": "P0MJZoMPH-Ew"
      },
      "source": [
        "knn = KNeighborsRegressor(algorithm='auto', leaf_size=30, metric='minkowski',\n",
        "                    metric_params=None, n_jobs=None, n_neighbors=4, p=2,\n",
        "                    weights='distance')\n",
        "knn.fit(X_train,y_train)\n",
        "knn_pred2=  knn.predict(X_test)\n"
      ],
      "execution_count": null,
      "outputs": []
    },
    {
      "cell_type": "code",
      "metadata": {
        "colab": {
          "base_uri": "https://localhost:8080/"
        },
        "id": "rk9uPI7ZIANE",
        "outputId": "88dc53e8-64bf-4e0c-d182-95994d4a409a"
      },
      "source": [
        "from sklearn.metrics import mean_squared_error, r2_score\n",
        "print('MAE:',mean_absolute_error(y_test,knn_pred2))\n",
        "print('R2 Score:',r2_score(y_test,knn_pred2))\n",
        "print(\"RMSE\",np.sqrt(mean_squared_error(y_test,knn_pred2)))"
      ],
      "execution_count": null,
      "outputs": [
        {
          "output_type": "stream",
          "name": "stdout",
          "text": [
            "MAE: 203.89958492972633\n",
            "R2 Score: 0.6719262921159148\n",
            "RMSE 1964.1539715302092\n"
          ]
        }
      ]
    },
    {
      "cell_type": "code",
      "metadata": {
        "colab": {
          "base_uri": "https://localhost:8080/",
          "height": 664
        },
        "id": "_WqSm_BdIczv",
        "outputId": "fd90693e-9e48-422b-b8e2-1a0770485090"
      },
      "source": [
        "knn_predList = knn_pred2.tolist()\n",
        "test = y_test.tolist()\n",
        "\n",
        "figure(figsize=(10, 5), dpi=130)\n",
        "\n",
        "plt.plot(test[0:200],'blue', label='Test',linewidth=2)\n",
        "plt.plot(knn_predList[0:200],'red',label='Model Prediction',linewidth=1)\n",
        "plt.title('KNN [Tuned]')\n",
        "plt.legend()\n",
        "ax = plt.axes()\n",
        "ax.set_facecolor(\"#cccccc\")\n",
        "plt.plot()"
      ],
      "execution_count": null,
      "outputs": [
        {
          "output_type": "stream",
          "name": "stderr",
          "text": [
            "/usr/local/lib/python3.7/dist-packages/ipykernel_launcher.py:10: MatplotlibDeprecationWarning: Adding an axes using the same arguments as a previous axes currently reuses the earlier instance.  In a future version, a new instance will always be created and returned.  Meanwhile, this warning can be suppressed, and the future behavior ensured, by passing a unique label to each axes instance.\n",
            "  # Remove the CWD from sys.path while we load stuff.\n"
          ]
        },
        {
          "output_type": "execute_result",
          "data": {
            "text/plain": [
              "[]"
            ]
          },
          "metadata": {},
          "execution_count": 60
        },
        {
          "output_type": "display_data",
          "data": {
            "image/png": "[encoded data removed]",
            "text/plain": [
              "<Figure size 1300x650 with 1 Axes>"
            ]
          },
          "metadata": {
            "needs_background": "light"
          }
        }
      ]
    },
    {
      "cell_type": "markdown",
      "metadata": {
        "id": "LN-pP-hulmVu"
      },
      "source": [
        "# **KNN of Filtered Data**"
      ]
    },
    {
      "cell_type": "code",
      "metadata": {
        "colab": {
          "base_uri": "https://localhost:8080/",
          "height": 543
        },
        "id": "A4HVsPwEnIDq",
        "outputId": "eda91f5a-66e8-41c0-d9b5-0f0b8f7adb68"
      },
      "source": [
        "featureScores.sort_values(by='Score',ascending=False)"
      ],
      "execution_count": null,
      "outputs": [
        {
          "output_type": "execute_result",
          "data": {
            "text/html": [
              "<div>\n",
              "<style scoped>\n",
              "    .dataframe tbody tr th:only-of-type {\n",
              "        vertical-align: middle;\n",
              "    }\n",
              "\n",
              "    .dataframe tbody tr th {\n",
              "        vertical-align: top;\n",
              "    }\n",
              "\n",
              "    .dataframe thead th {\n",
              "        text-align: right;\n",
              "    }\n",
              "</style>\n",
              "<table border=\"1\" class=\"dataframe\">\n",
              "  <thead>\n",
              "    <tr style=\"text-align: right;\">\n",
              "      <th></th>\n",
              "      <th>Feature</th>\n",
              "      <th>Score</th>\n",
              "    </tr>\n",
              "  </thead>\n",
              "  <tbody>\n",
              "    <tr>\n",
              "      <th>3</th>\n",
              "      <td>UsedCPUTime</td>\n",
              "      <td>4268.762900</td>\n",
              "    </tr>\n",
              "    <tr>\n",
              "      <th>4</th>\n",
              "      <td>UsedMemory</td>\n",
              "      <td>2655.095158</td>\n",
              "    </tr>\n",
              "    <tr>\n",
              "      <th>6</th>\n",
              "      <td>ReqTime</td>\n",
              "      <td>1928.216371</td>\n",
              "    </tr>\n",
              "    <tr>\n",
              "      <th>8</th>\n",
              "      <td>UserID</td>\n",
              "      <td>904.915663</td>\n",
              "    </tr>\n",
              "    <tr>\n",
              "      <th>9</th>\n",
              "      <td>GroupID</td>\n",
              "      <td>809.545198</td>\n",
              "    </tr>\n",
              "    <tr>\n",
              "      <th>0</th>\n",
              "      <td>SubmitTime</td>\n",
              "      <td>698.139212</td>\n",
              "    </tr>\n",
              "    <tr>\n",
              "      <th>2</th>\n",
              "      <td>NProc</td>\n",
              "      <td>510.761133</td>\n",
              "    </tr>\n",
              "    <tr>\n",
              "      <th>5</th>\n",
              "      <td>ReqNProcs</td>\n",
              "      <td>510.761133</td>\n",
              "    </tr>\n",
              "    <tr>\n",
              "      <th>12</th>\n",
              "      <td>OrigSiteID</td>\n",
              "      <td>464.693115</td>\n",
              "    </tr>\n",
              "    <tr>\n",
              "      <th>13</th>\n",
              "      <td>LastRunSiteID</td>\n",
              "      <td>464.693115</td>\n",
              "    </tr>\n",
              "    <tr>\n",
              "      <th>14</th>\n",
              "      <td>JobStructure</td>\n",
              "      <td>342.663472</td>\n",
              "    </tr>\n",
              "    <tr>\n",
              "      <th>1</th>\n",
              "      <td>WaitTime</td>\n",
              "      <td>192.393709</td>\n",
              "    </tr>\n",
              "    <tr>\n",
              "      <th>10</th>\n",
              "      <td>ExecutableID</td>\n",
              "      <td>162.468123</td>\n",
              "    </tr>\n",
              "    <tr>\n",
              "      <th>15</th>\n",
              "      <td>JobStructureParams</td>\n",
              "      <td>112.680227</td>\n",
              "    </tr>\n",
              "    <tr>\n",
              "      <th>7</th>\n",
              "      <td>Status</td>\n",
              "      <td>11.520109</td>\n",
              "    </tr>\n",
              "    <tr>\n",
              "      <th>11</th>\n",
              "      <td>QueueID</td>\n",
              "      <td>0.563359</td>\n",
              "    </tr>\n",
              "  </tbody>\n",
              "</table>\n",
              "</div>"
            ],
            "text/plain": [
              "               Feature        Score\n",
              "3          UsedCPUTime  4268.762900\n",
              "4           UsedMemory  2655.095158\n",
              "6              ReqTime  1928.216371\n",
              "8               UserID   904.915663\n",
              "9              GroupID   809.545198\n",
              "0           SubmitTime   698.139212\n",
              "2                NProc   510.761133\n",
              "5            ReqNProcs   510.761133\n",
              "12          OrigSiteID   464.693115\n",
              "13       LastRunSiteID   464.693115\n",
              "14        JobStructure   342.663472\n",
              "1             WaitTime   192.393709\n",
              "10        ExecutableID   162.468123\n",
              "15  JobStructureParams   112.680227\n",
              "7               Status    11.520109\n",
              "11             QueueID     0.563359"
            ]
          },
          "metadata": {},
          "execution_count": 61
        }
      ]
    },
    {
      "cell_type": "code",
      "metadata": {
        "colab": {
          "base_uri": "https://localhost:8080/",
          "height": 204
        },
        "id": "1aOFoj1OlmnU",
        "outputId": "dd17ff8c-322d-4275-9616-645e297794cf"
      },
      "source": [
        "X.head()\n",
        "\n"
      ],
      "execution_count": null,
      "outputs": [
        {
          "output_type": "execute_result",
          "data": {
            "text/html": [
              "<div>\n",
              "<style scoped>\n",
              "    .dataframe tbody tr th:only-of-type {\n",
              "        vertical-align: middle;\n",
              "    }\n",
              "\n",
              "    .dataframe tbody tr th {\n",
              "        vertical-align: top;\n",
              "    }\n",
              "\n",
              "    .dataframe thead th {\n",
              "        text-align: right;\n",
              "    }\n",
              "</style>\n",
              "<table border=\"1\" class=\"dataframe\">\n",
              "  <thead>\n",
              "    <tr style=\"text-align: right;\">\n",
              "      <th></th>\n",
              "      <th>SubmitTime</th>\n",
              "      <th>WaitTime</th>\n",
              "      <th>NProc</th>\n",
              "      <th>UsedCPUTime</th>\n",
              "      <th>UsedMemory</th>\n",
              "      <th>ReqNProcs</th>\n",
              "      <th>ReqTime</th>\n",
              "      <th>UserID</th>\n",
              "      <th>GroupID</th>\n",
              "      <th>OrigSiteID</th>\n",
              "      <th>LastRunSiteID</th>\n",
              "      <th>JobStructure</th>\n",
              "    </tr>\n",
              "  </thead>\n",
              "  <tbody>\n",
              "    <tr>\n",
              "      <th>18638</th>\n",
              "      <td>1118226329</td>\n",
              "      <td>265</td>\n",
              "      <td>8</td>\n",
              "      <td>0.002500</td>\n",
              "      <td>1196.544</td>\n",
              "      <td>8</td>\n",
              "      <td>960.0</td>\n",
              "      <td>208.216495</td>\n",
              "      <td>163.703850</td>\n",
              "      <td>338.504008</td>\n",
              "      <td>338.504008</td>\n",
              "      <td>390.053283</td>\n",
              "    </tr>\n",
              "    <tr>\n",
              "      <th>544751</th>\n",
              "      <td>1119848466</td>\n",
              "      <td>1001</td>\n",
              "      <td>1</td>\n",
              "      <td>56.000000</td>\n",
              "      <td>39788.544</td>\n",
              "      <td>1</td>\n",
              "      <td>900.0</td>\n",
              "      <td>123.893805</td>\n",
              "      <td>360.649792</td>\n",
              "      <td>261.542105</td>\n",
              "      <td>261.542105</td>\n",
              "      <td>390.063011</td>\n",
              "    </tr>\n",
              "    <tr>\n",
              "      <th>756710</th>\n",
              "      <td>1161894982</td>\n",
              "      <td>3</td>\n",
              "      <td>2</td>\n",
              "      <td>0.150000</td>\n",
              "      <td>15648.768</td>\n",
              "      <td>2</td>\n",
              "      <td>360.0</td>\n",
              "      <td>264.907277</td>\n",
              "      <td>360.652386</td>\n",
              "      <td>208.783524</td>\n",
              "      <td>208.783524</td>\n",
              "      <td>390.064227</td>\n",
              "    </tr>\n",
              "    <tr>\n",
              "      <th>660880</th>\n",
              "      <td>1124929775</td>\n",
              "      <td>6</td>\n",
              "      <td>4</td>\n",
              "      <td>0.055000</td>\n",
              "      <td>9097.216</td>\n",
              "      <td>4</td>\n",
              "      <td>180.0</td>\n",
              "      <td>264.896564</td>\n",
              "      <td>360.647826</td>\n",
              "      <td>208.768451</td>\n",
              "      <td>208.768451</td>\n",
              "      <td>390.062090</td>\n",
              "    </tr>\n",
              "    <tr>\n",
              "      <th>558088</th>\n",
              "      <td>1122909406</td>\n",
              "      <td>3</td>\n",
              "      <td>12</td>\n",
              "      <td>0.021667</td>\n",
              "      <td>2831.360</td>\n",
              "      <td>12</td>\n",
              "      <td>900.0</td>\n",
              "      <td>46.452314</td>\n",
              "      <td>163.796150</td>\n",
              "      <td>261.572281</td>\n",
              "      <td>261.572281</td>\n",
              "      <td>390.066180</td>\n",
              "    </tr>\n",
              "  </tbody>\n",
              "</table>\n",
              "</div>"
            ],
            "text/plain": [
              "        SubmitTime  WaitTime  NProc  ...  OrigSiteID  LastRunSiteID  JobStructure\n",
              "18638   1118226329       265      8  ...  338.504008     338.504008    390.053283\n",
              "544751  1119848466      1001      1  ...  261.542105     261.542105    390.063011\n",
              "756710  1161894982         3      2  ...  208.783524     208.783524    390.064227\n",
              "660880  1124929775         6      4  ...  208.768451     208.768451    390.062090\n",
              "558088  1122909406         3     12  ...  261.572281     261.572281    390.066180\n",
              "\n",
              "[5 rows x 12 columns]"
            ]
          },
          "metadata": {},
          "execution_count": 276
        }
      ]
    },
    {
      "cell_type": "code",
      "metadata": {
        "id": "-kRJ5M3lo5V5"
      },
      "source": [
        "X_knn = X.drop(['OrigSiteID','LastRunSiteID','JobStructure','ReqNProcs'],axis=1)"
      ],
      "execution_count": null,
      "outputs": []
    },
    {
      "cell_type": "code",
      "metadata": {
        "colab": {
          "base_uri": "https://localhost:8080/"
        },
        "id": "dME-hDJ6lmp1",
        "outputId": "a26c2d3e-81d6-44a7-8abc-c63a9b07f482"
      },
      "source": [
        "X_knn.shape"
      ],
      "execution_count": null,
      "outputs": [
        {
          "output_type": "execute_result",
          "data": {
            "text/plain": [
              "(30000, 7)"
            ]
          },
          "metadata": {},
          "execution_count": 188
        }
      ]
    },
    {
      "cell_type": "code",
      "metadata": {
        "id": "KliaPfCFobOg"
      },
      "source": [
        "min_max_scaler = preprocessing.MinMaxScaler()\n",
        "X_minmax_knn = min_max_scaler.fit_transform(X_knn)"
      ],
      "execution_count": null,
      "outputs": []
    },
    {
      "cell_type": "code",
      "metadata": {
        "id": "tp6NSnGfobRJ"
      },
      "source": [
        "X_train, X_test, y_train, y_test = train_test_split(X_minmax_knn,y,test_size=0.30,random_state=50)"
      ],
      "execution_count": null,
      "outputs": []
    },
    {
      "cell_type": "code",
      "metadata": {
        "id": "R-OQIDucobTU"
      },
      "source": [
        "knn = KNeighborsRegressor(algorithm='auto', leaf_size=30, metric='minkowski',\n",
        "                    metric_params=None, n_jobs=None, n_neighbors=2, p=2,\n",
        "                    weights='distance')\n",
        "knn.fit(X_train,y_train)\n",
        "knn_pred3=  knn.predict(X_test)\n"
      ],
      "execution_count": null,
      "outputs": []
    },
    {
      "cell_type": "code",
      "metadata": {
        "colab": {
          "base_uri": "https://localhost:8080/"
        },
        "id": "02GYlvP9obVl",
        "outputId": "c3f38df8-1c4a-4c68-9e03-b118930dd909"
      },
      "source": [
        "from sklearn.metrics import mean_squared_error, r2_score\n",
        "print('MAE:',mean_absolute_error(y_test,knn_pred3))\n",
        "print('R2 Score:',r2_score(y_test,knn_pred3))\n",
        "print(\"RMSE\",np.sqrt(mean_squared_error(y_test,knn_pred3)))"
      ],
      "execution_count": null,
      "outputs": [
        {
          "output_type": "stream",
          "name": "stdout",
          "text": [
            "MAE: 191.00563098256004\n",
            "R2 Score: 0.7801314098266781\n",
            "RMSE 1607.9458227456505\n"
          ]
        }
      ]
    },
    {
      "cell_type": "code",
      "metadata": {
        "colab": {
          "base_uri": "https://localhost:8080/",
          "height": 240
        },
        "id": "tP01bsIeobX-",
        "outputId": "6d8c8db2-f064-4954-8220-5bd79a9e7ab5"
      },
      "source": [
        "knn_predList = knn_pred3.tolist()\n",
        "test = y_test.tolist()\n",
        "\n",
        "figure(figsize=(10, 5), dpi=130)\n",
        "\n",
        "plt.plot(test[0:200],'blue', label='Test',linewidth=2)\n",
        "plt.plot(knn_predList[0:200],'red',label='Model Prediction',linewidth=1)\n",
        "plt.title('KNN [Tuned]')\n",
        "plt.legend()\n",
        "ax = plt.axes()\n",
        "ax.set_facecolor(\"#cccccc\")\n",
        "plt.plot()"
      ],
      "execution_count": null,
      "outputs": [
        {
          "output_type": "error",
          "ename": "NameError",
          "evalue": "ignored",
          "traceback": [
            "\u001b[0;31m---------------------------------------------------------------------------\u001b[0m",
            "\u001b[0;31mNameError\u001b[0m                                 Traceback (most recent call last)",
            "\u001b[0;32m<ipython-input-1-84ec5aec7721>\u001b[0m in \u001b[0;36m<module>\u001b[0;34m()\u001b[0m\n\u001b[0;32m----> 1\u001b[0;31m \u001b[0mknn_predList\u001b[0m \u001b[0;34m=\u001b[0m \u001b[0mknn_pred3\u001b[0m\u001b[0;34m.\u001b[0m\u001b[0mtolist\u001b[0m\u001b[0;34m(\u001b[0m\u001b[0;34m)\u001b[0m\u001b[0;34m\u001b[0m\u001b[0;34m\u001b[0m\u001b[0m\n\u001b[0m\u001b[1;32m      2\u001b[0m \u001b[0mtest\u001b[0m \u001b[0;34m=\u001b[0m \u001b[0my_test\u001b[0m\u001b[0;34m.\u001b[0m\u001b[0mtolist\u001b[0m\u001b[0;34m(\u001b[0m\u001b[0;34m)\u001b[0m\u001b[0;34m\u001b[0m\u001b[0;34m\u001b[0m\u001b[0m\n\u001b[1;32m      3\u001b[0m \u001b[0;34m\u001b[0m\u001b[0m\n\u001b[1;32m      4\u001b[0m \u001b[0mfigure\u001b[0m\u001b[0;34m(\u001b[0m\u001b[0mfigsize\u001b[0m\u001b[0;34m=\u001b[0m\u001b[0;34m(\u001b[0m\u001b[0;36m10\u001b[0m\u001b[0;34m,\u001b[0m \u001b[0;36m5\u001b[0m\u001b[0;34m)\u001b[0m\u001b[0;34m,\u001b[0m \u001b[0mdpi\u001b[0m\u001b[0;34m=\u001b[0m\u001b[0;36m130\u001b[0m\u001b[0;34m)\u001b[0m\u001b[0;34m\u001b[0m\u001b[0;34m\u001b[0m\u001b[0m\n\u001b[1;32m      5\u001b[0m \u001b[0;34m\u001b[0m\u001b[0m\n",
            "\u001b[0;31mNameError\u001b[0m: name 'knn_pred3' is not defined"
          ]
        }
      ]
    },
    {
      "cell_type": "markdown",
      "metadata": {
        "id": "eHOnXH-s9vb9"
      },
      "source": [
        "# **Decision Tree Regressor**"
      ]
    },
    {
      "cell_type": "code",
      "metadata": {
        "id": "BSzkC2w990hL"
      },
      "source": [
        "regressor = DecisionTreeRegressor(random_state=0)\n",
        "\n",
        "regressor.fit(X_train,y_train)\n",
        "\n",
        "dtree_pred = regressor.predict(X_test)"
      ],
      "execution_count": null,
      "outputs": []
    },
    {
      "cell_type": "code",
      "metadata": {
        "colab": {
          "base_uri": "https://localhost:8080/"
        },
        "id": "Fe3Y1vER-NP0",
        "outputId": "4cf61c96-57bf-4ec4-d6c2-c3f77099afb4"
      },
      "source": [
        "print('MAE:',mean_absolute_error(y_test,dtree_pred))\n",
        "print('R2 Score:',r2_score(y_test,dtree_pred))\n",
        "print(\"RMSE\",np.sqrt(mean_squared_error(y_test,dtree_pred)))"
      ],
      "execution_count": null,
      "outputs": [
        {
          "output_type": "stream",
          "name": "stdout",
          "text": [
            "MAE: 21.652444444444445\n",
            "R2 Score: 0.943451095203839\n",
            "RMSE 815.4585958560714\n"
          ]
        }
      ]
    },
    {
      "cell_type": "code",
      "metadata": {
        "colab": {
          "base_uri": "https://localhost:8080/",
          "height": 664
        },
        "id": "YcdNL_Gb-Nl4",
        "outputId": "9b38d77b-badf-46e7-de84-36818f813b4f"
      },
      "source": [
        "import matplotlib.pyplot as plt \n",
        "from matplotlib.pyplot import figure\n",
        "\n",
        "dtree_predList = dtree_pred.tolist()\n",
        "test = y_test.tolist()\n",
        "\n",
        "figure(figsize=(10, 5), dpi=130)\n",
        "\n",
        "plt.plot(test[0:200],'blue', label='Actual Value',linewidth=2)\n",
        "plt.plot(dtree_predList[0:200],'red',label='Model Prediction',linewidth=1)\n",
        "plt.legend()\n",
        "ax = plt.axes()\n",
        "plt.title('Decision Tree')\n",
        "ax.set_facecolor(\"#cccccc\")\n",
        "plt.plot()"
      ],
      "execution_count": null,
      "outputs": [
        {
          "output_type": "stream",
          "name": "stderr",
          "text": [
            "/usr/local/lib/python3.7/dist-packages/ipykernel_launcher.py:12: MatplotlibDeprecationWarning: Adding an axes using the same arguments as a previous axes currently reuses the earlier instance.  In a future version, a new instance will always be created and returned.  Meanwhile, this warning can be suppressed, and the future behavior ensured, by passing a unique label to each axes instance.\n",
            "  if sys.path[0] == '':\n"
          ]
        },
        {
          "output_type": "execute_result",
          "data": {
            "text/plain": [
              "[]"
            ]
          },
          "metadata": {},
          "execution_count": 43
        },
        {
          "output_type": "display_data",
          "data": {
            "image/png": "[encoded data removed]",
            "text/plain": [
              "<Figure size 1300x650 with 1 Axes>"
            ]
          },
          "metadata": {
            "needs_background": "light"
          }
        }
      ]
    },
    {
      "cell_type": "code",
      "metadata": {
        "id": "mnXekq72io22"
      },
      "source": [
        ""
      ],
      "execution_count": null,
      "outputs": []
    },
    {
      "cell_type": "code",
      "metadata": {
        "colab": {
          "base_uri": "https://localhost:8080/"
        },
        "id": "CyWp3S2Bio53",
        "outputId": "75d37a5f-b42f-424e-e5b8-bdc6836d1c6c"
      },
      "source": [
        "print('MAE:',mean_absolute_error(y_test,dtree_pred))\n",
        "print('R2 Score:',r2_score(y_test,dtree_pred))\n",
        "print(\"RMSE\",np.sqrt(mean_squared_error(y_test,dtree_pred)))"
      ],
      "execution_count": null,
      "outputs": [
        {
          "output_type": "stream",
          "name": "stdout",
          "text": [
            "MAE: 96.62730605541601\n",
            "R2 Score: 0.9612420685697303\n",
            "RMSE 675.1031135803001\n"
          ]
        }
      ]
    },
    {
      "cell_type": "markdown",
      "metadata": {
        "id": "nk5puL5Ur-9I"
      },
      "source": [
        "# Decision Tree Param Tuning"
      ]
    },
    {
      "cell_type": "code",
      "metadata": {
        "id": "5SVeNM8Jio8D"
      },
      "source": [
        "from sklearn.model_selection import GridSearchCV"
      ],
      "execution_count": null,
      "outputs": []
    },
    {
      "cell_type": "code",
      "metadata": {
        "id": "y42An4VRio-n"
      },
      "source": [
        "params = {\n",
        "    'max_depth': [2,3,4,5,6,7,8,9,10],\n",
        "    'min_samples_leaf': [3,5,7,9,10],\n",
        "    'min_samples_split': [2, 3, 50, 100],\n",
        "    'max_features': ['log2', 'sqrt','auto'],\n",
        "\n",
        "         \n",
        "}"
      ],
      "execution_count": null,
      "outputs": []
    },
    {
      "cell_type": "code",
      "metadata": {
        "id": "KFwj3UsNs2hv"
      },
      "source": [
        "dt = DecisionTreeRegressor(random_state=0)"
      ],
      "execution_count": null,
      "outputs": []
    },
    {
      "cell_type": "code",
      "metadata": {
        "id": "mVPvvZLTipA5"
      },
      "source": [
        "grid_search = GridSearchCV(estimator=dt, \n",
        "                           param_grid=params, \n",
        "                           cv=3, n_jobs=-1, verbose=1, scoring = \"neg_root_mean_squared_error\")"
      ],
      "execution_count": null,
      "outputs": []
    },
    {
      "cell_type": "code",
      "metadata": {
        "colab": {
          "base_uri": "https://localhost:8080/"
        },
        "id": "h2b79NRTtJzV",
        "outputId": "2ceef987-2e0d-4a19-8e29-eeeb83d68848"
      },
      "source": [
        "grid_search.fit(X_train, y_train)"
      ],
      "execution_count": null,
      "outputs": [
        {
          "output_type": "stream",
          "name": "stdout",
          "text": [
            "Fitting 3 folds for each of 540 candidates, totalling 1620 fits\n"
          ]
        },
        {
          "output_type": "stream",
          "name": "stderr",
          "text": [
            "[Parallel(n_jobs=-1)]: Using backend LokyBackend with 2 concurrent workers.\n",
            "[Parallel(n_jobs=-1)]: Done 300 tasks      | elapsed:    3.9s\n",
            "[Parallel(n_jobs=-1)]: Done 1500 tasks      | elapsed:   37.3s\n",
            "[Parallel(n_jobs=-1)]: Done 1620 out of 1620 | elapsed:   42.5s finished\n"
          ]
        },
        {
          "output_type": "execute_result",
          "data": {
            "text/plain": [
              "GridSearchCV(cv=3, error_score=nan,\n",
              "             estimator=DecisionTreeRegressor(ccp_alpha=0.0, criterion='mse',\n",
              "                                             max_depth=None, max_features=None,\n",
              "                                             max_leaf_nodes=None,\n",
              "                                             min_impurity_decrease=0.0,\n",
              "                                             min_impurity_split=None,\n",
              "                                             min_samples_leaf=1,\n",
              "                                             min_samples_split=2,\n",
              "                                             min_weight_fraction_leaf=0.0,\n",
              "                                             presort='deprecated',\n",
              "                                             random_state=0, splitter='best'),\n",
              "             iid='deprecated', n_jobs=-1,\n",
              "             param_grid={'max_depth': [2, 3, 4, 5, 6, 7, 8, 9, 10],\n",
              "                         'max_features': ['log2', 'sqrt', 'auto'],\n",
              "                         'min_samples_leaf': [3, 5, 7, 9, 10],\n",
              "                         'min_samples_split': [2, 3, 50, 100]},\n",
              "             pre_dispatch='2*n_jobs', refit=True, return_train_score=False,\n",
              "             scoring='neg_root_mean_squared_error', verbose=1)"
            ]
          },
          "metadata": {},
          "execution_count": 105
        }
      ]
    },
    {
      "cell_type": "code",
      "metadata": {
        "colab": {
          "base_uri": "https://localhost:8080/"
        },
        "id": "BdwWBT1-y2LG",
        "outputId": "6c5f5187-403c-4020-9ee7-ba0d614d9275"
      },
      "source": [
        "print(grid_search.best_score_)\n",
        "print(grid_search.best_estimator_)\n",
        "print(grid_search.best_params_)"
      ],
      "execution_count": null,
      "outputs": [
        {
          "output_type": "stream",
          "name": "stdout",
          "text": [
            "-701.317077710493\n",
            "DecisionTreeRegressor(ccp_alpha=0.0, criterion='mse', max_depth=9,\n",
            "                      max_features='auto', max_leaf_nodes=None,\n",
            "                      min_impurity_decrease=0.0, min_impurity_split=None,\n",
            "                      min_samples_leaf=3, min_samples_split=2,\n",
            "                      min_weight_fraction_leaf=0.0, presort='deprecated',\n",
            "                      random_state=0, splitter='best')\n",
            "{'max_depth': 9, 'max_features': 'auto', 'min_samples_leaf': 3, 'min_samples_split': 2}\n"
          ]
        }
      ]
    },
    {
      "cell_type": "code",
      "metadata": {
        "colab": {
          "base_uri": "https://localhost:8080/"
        },
        "id": "CdeRgRTZtQRb",
        "outputId": "50095b5f-7ec9-4db9-fc1a-4280488aee71"
      },
      "source": [
        "import sklearn\n",
        "sklearn.metrics.SCORERS.keys()\n"
      ],
      "execution_count": null,
      "outputs": [
        {
          "output_type": "execute_result",
          "data": {
            "text/plain": [
              "dict_keys(['explained_variance', 'r2', 'max_error', 'neg_median_absolute_error', 'neg_mean_absolute_error', 'neg_mean_squared_error', 'neg_mean_squared_log_error', 'neg_root_mean_squared_error', 'neg_mean_poisson_deviance', 'neg_mean_gamma_deviance', 'accuracy', 'roc_auc', 'roc_auc_ovr', 'roc_auc_ovo', 'roc_auc_ovr_weighted', 'roc_auc_ovo_weighted', 'balanced_accuracy', 'average_precision', 'neg_log_loss', 'neg_brier_score', 'adjusted_rand_score', 'homogeneity_score', 'completeness_score', 'v_measure_score', 'mutual_info_score', 'adjusted_mutual_info_score', 'normalized_mutual_info_score', 'fowlkes_mallows_score', 'precision', 'precision_macro', 'precision_micro', 'precision_samples', 'precision_weighted', 'recall', 'recall_macro', 'recall_micro', 'recall_samples', 'recall_weighted', 'f1', 'f1_macro', 'f1_micro', 'f1_samples', 'f1_weighted', 'jaccard', 'jaccard_macro', 'jaccard_micro', 'jaccard_samples', 'jaccard_weighted'])"
            ]
          },
          "metadata": {},
          "execution_count": 107
        }
      ]
    },
    {
      "cell_type": "code",
      "metadata": {
        "id": "eXxoXv0ZzKtV"
      },
      "source": [
        "regressor = DecisionTreeRegressor(ccp_alpha=0.0, criterion='mse', max_depth=9,\n",
        "                      max_features='auto', max_leaf_nodes=None,\n",
        "                      min_impurity_decrease=0.0, min_impurity_split=None,\n",
        "                      min_samples_leaf=3, min_samples_split=2,\n",
        "                      min_weight_fraction_leaf=0.0, presort='deprecated',\n",
        "                      random_state=0, splitter='best')\n",
        "\n",
        "regressor.fit(X_train,y_train)\n",
        "\n",
        "dtree_pred = regressor.predict(X_test)"
      ],
      "execution_count": null,
      "outputs": []
    },
    {
      "cell_type": "code",
      "metadata": {
        "colab": {
          "base_uri": "https://localhost:8080/"
        },
        "id": "xsWStEMlzKvw",
        "outputId": "2a62a632-7d90-49b8-f179-dbe0d62f4e44"
      },
      "source": [
        "print('MAE:',mean_absolute_error(y_test,dtree_pred))\n",
        "print('R2 Score:',r2_score(y_test,dtree_pred))\n",
        "print(\"RMSE\",np.sqrt(mean_squared_error(y_test,dtree_pred)))"
      ],
      "execution_count": null,
      "outputs": [
        {
          "output_type": "stream",
          "name": "stdout",
          "text": [
            "MAE: 31.182193914191494\n",
            "R2 Score: 0.972332708868944\n",
            "RMSE 570.3916194254184\n"
          ]
        }
      ]
    },
    {
      "cell_type": "markdown",
      "metadata": {
        "id": "9acOD_AfEgnJ"
      },
      "source": [
        "# **Random Forests**"
      ]
    },
    {
      "cell_type": "code",
      "metadata": {
        "id": "rWy56qFPEryp"
      },
      "source": [
        "# X_train, X_test, y_train, y_test = train_test_split(X_minmax,y,test_size=0.30,random_state=50)"
      ],
      "execution_count": null,
      "outputs": []
    },
    {
      "cell_type": "code",
      "metadata": {
        "id": "-YcyqnAbEjXb"
      },
      "source": [
        "# Import the model we are using\n",
        "from sklearn.ensemble import RandomForestRegressor\n",
        "\n",
        "rf = RandomForestRegressor(n_estimators=10)\n",
        "\n",
        "rf.fit(X_train, y_train);\n",
        "\n",
        "rf_pred = rf.predict(X_test)"
      ],
      "execution_count": null,
      "outputs": []
    },
    {
      "cell_type": "code",
      "metadata": {
        "colab": {
          "base_uri": "https://localhost:8080/"
        },
        "id": "c636MOeFEoEI",
        "outputId": "f88f3920-e1b9-4c1f-a2d2-8f623527d719"
      },
      "source": [
        "from sklearn.metrics import mean_squared_error, r2_score\n",
        "print('MAE:',mean_absolute_error(y_test,rf_pred))\n",
        "print('R2 Score:',r2_score(y_test,rf_pred))\n",
        "print(\"RMSE\",np.sqrt(mean_squared_error(y_test,rf_pred)))"
      ],
      "execution_count": null,
      "outputs": [
        {
          "output_type": "stream",
          "name": "stdout",
          "text": [
            "MAE: 14.150455555555554\n",
            "R2 Score: 0.9927604079099374\n",
            "RMSE 291.77418482068936\n"
          ]
        }
      ]
    },
    {
      "cell_type": "code",
      "metadata": {
        "colab": {
          "base_uri": "https://localhost:8080/",
          "height": 664
        },
        "id": "56oczpP-F07b",
        "outputId": "503371a0-0897-440a-8f1a-8161a3fdc354"
      },
      "source": [
        "import matplotlib.pyplot as plt \n",
        "from matplotlib.pyplot import figure\n",
        "\n",
        "rf_predList = rf_pred.tolist()\n",
        "test = y_test.tolist()\n",
        "\n",
        "figure(figsize=(10, 5), dpi=130)\n",
        "\n",
        "plt.plot(test[0:200],'blue', label='Actual Value',linewidth=2)\n",
        "plt.plot(rf_predList [0:200],'red',label='Model Prediction',linewidth=1)\n",
        "plt.legend()\n",
        "ax = plt.axes()\n",
        "plt.title('Random Forest')\n",
        "ax.set_facecolor(\"#cccccc\")\n",
        "plt.plot()"
      ],
      "execution_count": null,
      "outputs": [
        {
          "output_type": "stream",
          "name": "stderr",
          "text": [
            "/usr/local/lib/python3.7/dist-packages/ipykernel_launcher.py:12: MatplotlibDeprecationWarning: Adding an axes using the same arguments as a previous axes currently reuses the earlier instance.  In a future version, a new instance will always be created and returned.  Meanwhile, this warning can be suppressed, and the future behavior ensured, by passing a unique label to each axes instance.\n",
            "  if sys.path[0] == '':\n"
          ]
        },
        {
          "output_type": "execute_result",
          "data": {
            "text/plain": [
              "[]"
            ]
          },
          "metadata": {},
          "execution_count": 187
        },
        {
          "output_type": "display_data",
          "data": {
            "image/png": "[encoded data removed]",
            "text/plain": [
              "<Figure size 1300x650 with 1 Axes>"
            ]
          },
          "metadata": {
            "needs_background": "light"
          }
        }
      ]
    },
    {
      "cell_type": "code",
      "metadata": {
        "id": "LWCObTco8zFC",
        "colab": {
          "base_uri": "https://localhost:8080/",
          "height": 240
        },
        "outputId": "d38f27f1-8024-44ed-acbd-f4f0e6a523eb"
      },
      "source": [
        "rf = RandomForestRegressor(n_estimators=1)\n",
        "\n",
        "rf.fit(X_train, y_train);\n",
        "\n",
        "rf_pred = rf.predict(X_test)"
      ],
      "execution_count": null,
      "outputs": [
        {
          "output_type": "error",
          "ename": "NameError",
          "evalue": "ignored",
          "traceback": [
            "\u001b[0;31m---------------------------------------------------------------------------\u001b[0m",
            "\u001b[0;31mNameError\u001b[0m                                 Traceback (most recent call last)",
            "\u001b[0;32m<ipython-input-2-a06809846f43>\u001b[0m in \u001b[0;36m<module>\u001b[0;34m()\u001b[0m\n\u001b[0;32m----> 1\u001b[0;31m \u001b[0mrf\u001b[0m \u001b[0;34m=\u001b[0m \u001b[0mRandomForestRegressor\u001b[0m\u001b[0;34m(\u001b[0m\u001b[0mn_estimators\u001b[0m\u001b[0;34m=\u001b[0m\u001b[0;36m1\u001b[0m\u001b[0;34m)\u001b[0m\u001b[0;34m\u001b[0m\u001b[0;34m\u001b[0m\u001b[0m\n\u001b[0m\u001b[1;32m      2\u001b[0m \u001b[0;34m\u001b[0m\u001b[0m\n\u001b[1;32m      3\u001b[0m \u001b[0mrf\u001b[0m\u001b[0;34m.\u001b[0m\u001b[0mfit\u001b[0m\u001b[0;34m(\u001b[0m\u001b[0mX_train\u001b[0m\u001b[0;34m,\u001b[0m \u001b[0my_train\u001b[0m\u001b[0;34m)\u001b[0m\u001b[0;34m;\u001b[0m\u001b[0;34m\u001b[0m\u001b[0;34m\u001b[0m\u001b[0m\n\u001b[1;32m      4\u001b[0m \u001b[0;34m\u001b[0m\u001b[0m\n\u001b[1;32m      5\u001b[0m \u001b[0mrf_pred\u001b[0m \u001b[0;34m=\u001b[0m \u001b[0mrf\u001b[0m\u001b[0;34m.\u001b[0m\u001b[0mpredict\u001b[0m\u001b[0;34m(\u001b[0m\u001b[0mX_test\u001b[0m\u001b[0;34m)\u001b[0m\u001b[0;34m\u001b[0m\u001b[0;34m\u001b[0m\u001b[0m\n",
            "\u001b[0;31mNameError\u001b[0m: name 'RandomForestRegressor' is not defined"
          ]
        }
      ]
    },
    {
      "cell_type": "code",
      "metadata": {
        "colab": {
          "base_uri": "https://localhost:8080/"
        },
        "id": "1__wjuyg83l2",
        "outputId": "a92b059f-f57e-4932-c87f-fef0364fcc7c"
      },
      "source": [
        "print('MAE:',mean_absolute_error(y_test,rf_pred))\n",
        "print('R2 Score:',r2_score(y_test,rf_pred))\n",
        "print(\"RMSE\",np.sqrt(mean_squared_error(y_test,rf_pred)))"
      ],
      "execution_count": null,
      "outputs": [
        {
          "output_type": "stream",
          "name": "stdout",
          "text": [
            "MAE: 43.43533333333333\n",
            "R2 Score: 0.927989560417511\n",
            "RMSE 920.2112681335738\n"
          ]
        }
      ]
    },
    {
      "cell_type": "code",
      "metadata": {
        "id": "8XJPdlGav90f"
      },
      "source": [
        "estimators = list(range(10,100,5))"
      ],
      "execution_count": null,
      "outputs": []
    },
    {
      "cell_type": "code",
      "metadata": {
        "colab": {
          "base_uri": "https://localhost:8080/"
        },
        "id": "6z4XBRby86qz",
        "outputId": "8a89b4cc-d062-4931-fdd4-5ba3afa18e81"
      },
      "source": [
        "estimators"
      ],
      "execution_count": null,
      "outputs": [
        {
          "output_type": "execute_result",
          "data": {
            "text/plain": [
              "[10, 15, 20, 25, 30, 35, 40, 45, 50, 55, 60, 65, 70, 75, 80, 85, 90, 95]"
            ]
          },
          "metadata": {},
          "execution_count": 113
        }
      ]
    },
    {
      "cell_type": "code",
      "metadata": {
        "id": "_NFdEedj85XU"
      },
      "source": [
        "# estimators = [10,20,30,40,50,60,70,80,90,100]\n",
        "mae = []\n",
        "rmse = []\n",
        "\n",
        "for i in estimators:\n",
        "  rf = RandomForestRegressor(n_estimators=i,random_state=0)\n",
        "\n",
        "  rf.fit(X_train, y_train);\n",
        "\n",
        "  rf_pred = rf.predict(X_test)\n",
        "  mae.append(mean_absolute_error(y_test,rf_pred))\n",
        "  rmse.append(np.sqrt(mean_squared_error(y_test,rf_pred)))"
      ],
      "execution_count": null,
      "outputs": []
    },
    {
      "cell_type": "code",
      "metadata": {
        "colab": {
          "base_uri": "https://localhost:8080/",
          "height": 314
        },
        "id": "6GZqi1GY_Rqt",
        "outputId": "83f4af53-13db-407f-b47f-69ed57969732"
      },
      "source": [
        "import matplotlib.pyplot as plt\n",
        "plt.plot(estimators, mae)\n",
        "plt.title('Mean Absolute Error (MAE) Vs n_estimators')\n",
        "plt.xlabel('n_estimators')\n",
        "plt.ylabel('MAE')"
      ],
      "execution_count": null,
      "outputs": [
        {
          "output_type": "execute_result",
          "data": {
            "text/plain": [
              "Text(0, 0.5, 'MAE')"
            ]
          },
          "metadata": {},
          "execution_count": 122
        },
        {
          "output_type": "display_data",
          "data": {
            "image/png": "[encoded data removed]",
            "text/plain": [
              "<Figure size 432x288 with 1 Axes>"
            ]
          },
          "metadata": {
            "needs_background": "light"
          }
        }
      ]
    },
    {
      "cell_type": "code",
      "metadata": {
        "colab": {
          "base_uri": "https://localhost:8080/",
          "height": 314
        },
        "id": "A3lV83pc_ZuW",
        "outputId": "79b7c4c1-ec71-466b-d570-af4616b7544f"
      },
      "source": [
        "import matplotlib.pyplot as plt\n",
        "plt.plot(estimators, rmse)\n",
        "plt.title('Root Mean Squared Error (RMSE) Vs n_estimators')\n",
        "plt.xlabel('n_estimators')\n",
        "plt.ylabel('RMSE')"
      ],
      "execution_count": null,
      "outputs": [
        {
          "output_type": "execute_result",
          "data": {
            "text/plain": [
              "Text(0, 0.5, 'RMSE')"
            ]
          },
          "metadata": {},
          "execution_count": 123
        },
        {
          "output_type": "display_data",
          "data": {
            "image/png": "[encoded data removed]",
            "text/plain": [
              "<Figure size 432x288 with 1 Axes>"
            ]
          },
          "metadata": {
            "needs_background": "light"
          }
        }
      ]
    },
    {
      "cell_type": "code",
      "metadata": {
        "id": "2HrU3QQmASQp"
      },
      "source": [
        "rf = RandomForestRegressor(n_estimators=55 , random_state = 0)\n",
        "rf.fit(X_train, y_train);\n",
        "rf_pred = rf.predict(X_test)"
      ],
      "execution_count": null,
      "outputs": []
    },
    {
      "cell_type": "code",
      "metadata": {
        "colab": {
          "base_uri": "https://localhost:8080/"
        },
        "id": "UlpL_D5fo96g",
        "outputId": "27810e98-7c15-49be-a8ba-4bced2195a4d"
      },
      "source": [
        "print('MAE:',mean_absolute_error(y_test,rf_pred))\n",
        "print('R2 Score:',r2_score(y_test,rf_pred))\n",
        "print(\"RMSE\",np.sqrt(mean_squared_error(y_test,rf_pred)))"
      ],
      "execution_count": null,
      "outputs": [
        {
          "output_type": "stream",
          "name": "stdout",
          "text": [
            "MAE: 12.45070505050505\n",
            "R2 Score: 0.9965891260709373\n",
            "RMSE 200.2731135831246\n"
          ]
        }
      ]
    },
    {
      "cell_type": "code",
      "metadata": {
        "colab": {
          "base_uri": "https://localhost:8080/"
        },
        "id": "GXyNFMbEMaaA",
        "outputId": "1ea06fe5-9051-4b81-cbc6-65125195a7ae"
      },
      "source": [
        "minMae = min(mae)\n",
        "minRmse = min(rmse)\n",
        "indexMae = mae.index(minMae)\n",
        "indexRmse = rmse.index(minRmse)\n",
        "print(minMae)\n",
        "print(maxRmse)\n",
        "\n",
        "print(indexMae)\n",
        "print(indexRmse)\n"
      ],
      "execution_count": null,
      "outputs": [
        {
          "output_type": "stream",
          "name": "stdout",
          "text": [
            "10.544225396825398\n",
            "181.6880051914018\n",
            "12\n",
            "4\n"
          ]
        }
      ]
    },
    {
      "cell_type": "code",
      "metadata": {
        "colab": {
          "base_uri": "https://localhost:8080/",
          "height": 664
        },
        "id": "czsBzQdsMb2_",
        "outputId": "a0f16353-9f33-44f2-88fa-7867e73005cb"
      },
      "source": [
        "\n",
        "rf_predList = rf_pred.tolist()\n",
        "test = y_test.tolist()\n",
        "\n",
        "figure(figsize=(10, 5), dpi=130)\n",
        "\n",
        "plt.plot(test[0:200],'blue', label='Actual Value',linewidth=2)\n",
        "plt.plot(rf_predList [0:200],'red',label='Model Prediction',linewidth=1)\n",
        "plt.legend()\n",
        "ax = plt.axes()\n",
        "plt.title('Random Forest')\n",
        "ax.set_facecolor(\"#cccccc\")\n",
        "plt.plot()"
      ],
      "execution_count": null,
      "outputs": [
        {
          "output_type": "stream",
          "name": "stderr",
          "text": [
            "/usr/local/lib/python3.7/dist-packages/ipykernel_launcher.py:10: MatplotlibDeprecationWarning: Adding an axes using the same arguments as a previous axes currently reuses the earlier instance.  In a future version, a new instance will always be created and returned.  Meanwhile, this warning can be suppressed, and the future behavior ensured, by passing a unique label to each axes instance.\n",
            "  # Remove the CWD from sys.path while we load stuff.\n"
          ]
        },
        {
          "output_type": "execute_result",
          "data": {
            "text/plain": [
              "[]"
            ]
          },
          "metadata": {},
          "execution_count": 190
        },
        {
          "output_type": "display_data",
          "data": {
            "image/png": "[encoded data removed]",
            "text/plain": [
              "<Figure size 1300x650 with 1 Axes>"
            ]
          },
          "metadata": {
            "needs_background": "light"
          }
        }
      ]
    },
    {
      "cell_type": "code",
      "metadata": {
        "id": "HJRbRn5oTqHf"
      },
      "source": [
        ""
      ],
      "execution_count": null,
      "outputs": []
    }
  ]
}